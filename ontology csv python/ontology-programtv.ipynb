{
 "cells": [
  {
   "cell_type": "code",
   "execution_count": 2,
   "id": "5592873c",
   "metadata": {},
   "outputs": [
    {
     "name": "stdout",
     "output_type": "stream",
     "text": [
      "Collecting owlready\n",
      "  Downloading Owlready-0.3.1.tar.gz (6.9 MB)\n",
      "Building wheels for collected packages: owlready\n",
      "  Building wheel for owlready (setup.py): started\n",
      "  Building wheel for owlready (setup.py): finished with status 'done'\n",
      "  Created wheel for owlready: filename=Owlready-0.3.1-py3-none-any.whl size=6437478 sha256=e02701c6ec3c85b389ac94e9bd9466803bba3254c5f24dc3e3828e41bdaec871\n",
      "  Stored in directory: c:\\users\\dell\\appdata\\local\\pip\\cache\\wheels\\6d\\1a\\af\\cb44f8848982f5d3ea0a0f4317f604b434d8aa11b83d8e966c\n",
      "Successfully built owlready\n",
      "Installing collected packages: owlready\n",
      "Successfully installed owlready-0.3.1\n"
     ]
    }
   ],
   "source": [
    "!pip install owlready"
   ]
  },
  {
   "cell_type": "code",
   "execution_count": 4,
   "id": "bd379801",
   "metadata": {},
   "outputs": [
    {
     "name": "stderr",
     "output_type": "stream",
     "text": [
      "* Owlready * Creating new ontology resto <C:/Users/DELLDesktop/resto.owl>.\n"
     ]
    }
   ],
   "source": [
    "onto = Ontology(\"C:/Users/DELLDesktop/resto.owl\")"
   ]
  },
  {
   "cell_type": "code",
   "execution_count": 6,
   "id": "1a03392a",
   "metadata": {},
   "outputs": [
    {
     "name": "stdout",
     "output_type": "stream",
     "text": [
      "python_name\n"
     ]
    }
   ],
   "source": [
    "print(owlready_ontology.python_name)\n"
   ]
  },
  {
   "cell_type": "code",
   "execution_count": 7,
   "id": "839bb804",
   "metadata": {},
   "outputs": [
    {
     "name": "stdout",
     "output_type": "stream",
     "text": [
      "Collecting SPARQLWrapper\n",
      "  Downloading SPARQLWrapper-1.8.5-py3-none-any.whl (26 kB)\n",
      "Requirement already satisfied: rdflib>=4.0 in c:\\users\\dell\\anaconda3\\envs\\new_en\\lib\\site-packages (from SPARQLWrapper) (6.0.1)\n",
      "Requirement already satisfied: pyparsing in c:\\users\\dell\\anaconda3\\envs\\new_en\\lib\\site-packages (from rdflib>=4.0->SPARQLWrapper) (2.4.7)\n",
      "Requirement already satisfied: isodate in c:\\users\\dell\\anaconda3\\envs\\new_en\\lib\\site-packages (from rdflib>=4.0->SPARQLWrapper) (0.6.0)\n",
      "Requirement already satisfied: setuptools in c:\\users\\dell\\anaconda3\\envs\\new_en\\lib\\site-packages (from rdflib>=4.0->SPARQLWrapper) (52.0.0.post20210125)\n",
      "Requirement already satisfied: six in c:\\users\\dell\\anaconda3\\envs\\new_en\\lib\\site-packages (from isodate->rdflib>=4.0->SPARQLWrapper) (1.16.0)\n",
      "Installing collected packages: SPARQLWrapper\n",
      "Successfully installed SPARQLWrapper-1.8.5\n"
     ]
    }
   ],
   "source": [
    "!pip install SPARQLWrapper"
   ]
  },
  {
   "cell_type": "code",
   "execution_count": 8,
   "id": "19e82777",
   "metadata": {},
   "outputs": [
    {
     "name": "stdout",
     "output_type": "stream",
     "text": [
      "Requirement already satisfied: rdflib in c:\\users\\dell\\anaconda3\\envs\\new_en\\lib\\site-packages (6.0.1)\n",
      "Requirement already satisfied: pyparsing in c:\\users\\dell\\anaconda3\\envs\\new_en\\lib\\site-packages (from rdflib) (2.4.7)\n",
      "Requirement already satisfied: setuptools in c:\\users\\dell\\anaconda3\\envs\\new_en\\lib\\site-packages (from rdflib) (52.0.0.post20210125)\n",
      "Requirement already satisfied: isodate in c:\\users\\dell\\anaconda3\\envs\\new_en\\lib\\site-packages (from rdflib) (0.6.0)\n",
      "Requirement already satisfied: six in c:\\users\\dell\\anaconda3\\envs\\new_en\\lib\\site-packages (from isodate->rdflib) (1.16.0)\n"
     ]
    }
   ],
   "source": [
    "!pip install rdflib"
   ]
  },
  {
   "cell_type": "code",
   "execution_count": 1,
   "id": "7dd236a8",
   "metadata": {},
   "outputs": [
    {
     "name": "stderr",
     "output_type": "stream",
     "text": [
      "* Owlready2 * Warning: optimized Cython parser module 'owlready2_optimized' is not available, defaulting to slower Python implementation\n",
      "* Owlready2 * WARNING: ObjectProperty http://www.semanticweb.org/dell/ontologies/2021/9/programTv#برنامج belongs to more than one entity types: [owl.ObjectProperty, program tv.programTv]; I'm trying to fix it...\n",
      "* Owlready2 * WARNING: ObjectProperty http://www.semanticweb.org/dell/ontologies/2021/9/programTv#تمثيل belongs to more than one entity types: [owl.ObjectProperty, program tv.programTv, owl.topObjectProperty]; I'm trying to fix it...\n",
      "* Owlready2 * Running HermiT...\n",
      "    java -Xmx2000M -cp C:\\Users\\DELL\\anaconda3\\envs\\new_en\\lib\\site-packages\\owlready2\\hermit;C:\\Users\\DELL\\anaconda3\\envs\\new_en\\lib\\site-packages\\owlready2\\hermit\\HermiT.jar org.semanticweb.HermiT.cli.CommandLine -c -O -D -I file:///C:/Users/DELL/AppData/Local/Temp/tmpcpivy6_4\n",
      "* Owlready2 * HermiT took 37.340378522872925 seconds\n",
      "* Owlready * (NB: only changes on entities loaded in Python are shown, other changes are done but not listed)\n"
     ]
    },
    {
     "name": "stdout",
     "output_type": "stream",
     "text": [
      "[[6, owl.ObjectProperty], [6, 12], [6, program tv.programTv], [program tv.برنامج, program tv.برامج], [program tv.برنامج, program tv.حصة], [program tv.برنامج, program tv.حصه], [program tv.برنامج, program tv.حلقة], [program tv.برنامج, program tv.حلقه]]\n"
     ]
    }
   ],
   "source": [
    "from owlready2 import *\n",
    "from rdflib import *\n",
    "onto3= get_ontology(\"C:/Users/DELL/Desktop/ontology/program tv.owl\").load()\n",
    "sync_reasoner([onto3])\n",
    "graph = default_world.as_rdflib_graph()\n",
    "requete=list(graph.query_owlready(\"\"\"\n",
    "PREFIX rdf: <http://www.w3.org/1999/02/22-rdf-syntax-ns#>\n",
    "PREFIX owl: <http://www.w3.org/2002/07/owl#>\n",
    "PREFIX rdfs: <http://www.w3.org/2000/01/rdf-schema#>\n",
    "PREFIX xsd: <http://www.w3.org/2001/XMLSchema#>\n",
    "PREFIX pz: <http://www.semanticweb.org/dell/ontologies/2021/9/restaurant.owl>\n",
    "SELECT ?b  ?ins where\n",
    "{<http://www.semanticweb.org/dell/ontologies/2021/9/programTv#برنامج> ?b ?ins.}\n",
    "\n",
    "\n",
    "\n",
    "\"\"\"))\n",
    "print(requete)"
   ]
  },
  {
   "cell_type": "code",
   "execution_count": 4,
   "id": "da94d5f1",
   "metadata": {},
   "outputs": [],
   "source": [
    "del requete[0]\n",
    "#del requete[1]"
   ]
  },
  {
   "cell_type": "code",
   "execution_count": 5,
   "id": "7020a6c3",
   "metadata": {},
   "outputs": [
    {
     "data": {
      "text/plain": [
       "[[program tv.برنامج, program tv.برامج],\n",
       " [program tv.برنامج, program tv.حصة],\n",
       " [program tv.برنامج, program tv.حصه],\n",
       " [program tv.برنامج, program tv.حلقة],\n",
       " [program tv.برنامج, program tv.حلقه]]"
      ]
     },
     "execution_count": 5,
     "metadata": {},
     "output_type": "execute_result"
    }
   ],
   "source": [
    "requete"
   ]
  },
  {
   "cell_type": "markdown",
   "id": "ae02bef9",
   "metadata": {},
   "source": [
    "# برنامج"
   ]
  },
  {
   "cell_type": "code",
   "execution_count": 6,
   "id": "8638c8db",
   "metadata": {},
   "outputs": [],
   "source": [
    "import csv\n",
    "with open('برنامج.csv','w+',newline='',encoding='UTF_8') as fichiercsv:\n",
    "    writer=csv.writer(fichiercsv)\n",
    "    writer.writerow(['Relation','Aspect'])\n",
    "    requete2=[]\n",
    "    for req in range(len(requete)):\n",
    "        lst=[]\n",
    "        for r in range(len(requete[req])):\n",
    "            requete[req][r]=str(requete[req][r]).split(\".\")\n",
    "            requete[req][r][1]=requete[req][r][1].replace(\".\",\" \")\n",
    "            lst.append(requete[req][r][1])\n",
    "        requete2.append(lst)\n",
    "    for r in range(len(requete2)):\n",
    "        writer.writerow([requete2[r][0],requete2[r][1]])"
   ]
  },
  {
   "cell_type": "code",
   "execution_count": 2,
   "id": "b8426b3a",
   "metadata": {},
   "outputs": [
    {
     "data": {
      "text/html": [
       "<div>\n",
       "<style scoped>\n",
       "    .dataframe tbody tr th:only-of-type {\n",
       "        vertical-align: middle;\n",
       "    }\n",
       "\n",
       "    .dataframe tbody tr th {\n",
       "        vertical-align: top;\n",
       "    }\n",
       "\n",
       "    .dataframe thead th {\n",
       "        text-align: right;\n",
       "    }\n",
       "</style>\n",
       "<table border=\"1\" class=\"dataframe\">\n",
       "  <thead>\n",
       "    <tr style=\"text-align: right;\">\n",
       "      <th></th>\n",
       "      <th>6</th>\n",
       "      <th>12</th>\n",
       "    </tr>\n",
       "  </thead>\n",
       "  <tbody>\n",
       "    <tr>\n",
       "      <th>0</th>\n",
       "      <td>6</td>\n",
       "      <td>restaurant.resto</td>\n",
       "    </tr>\n",
       "    <tr>\n",
       "      <th>1</th>\n",
       "      <td>restaurant.اكل</td>\n",
       "      <td>restaurant.بنين</td>\n",
       "    </tr>\n",
       "    <tr>\n",
       "      <th>2</th>\n",
       "      <td>restaurant.اكل</td>\n",
       "      <td>restaurant.كسكروت</td>\n",
       "    </tr>\n",
       "    <tr>\n",
       "      <th>3</th>\n",
       "      <td>restaurant.اكل</td>\n",
       "      <td>restaurant.هريسه</td>\n",
       "    </tr>\n",
       "  </tbody>\n",
       "</table>\n",
       "</div>"
      ],
      "text/plain": [
       "                6                 12\n",
       "0               6   restaurant.resto\n",
       "1  restaurant.اكل    restaurant.بنين\n",
       "2  restaurant.اكل  restaurant.كسكروت\n",
       "3  restaurant.اكل   restaurant.هريسه"
      ]
     },
     "execution_count": 2,
     "metadata": {},
     "output_type": "execute_result"
    }
   ],
   "source": [
    "import csv\n",
    "with open('resto.csv','w+',newline='',encoding='UTF_8') as f:\n",
    "\n",
    "    # using csv.writer method from CSV package\n",
    "    write = csv.writer(f)\n",
    "\n",
    "    write.writerows(requete)\n",
    "\n",
    "import pandas as pd\n",
    "df = pd.read_csv(\"resto.csv\")\n",
    "df"
   ]
  },
  {
   "cell_type": "markdown",
   "id": "353d189d",
   "metadata": {},
   "source": [
    "# عنوان\n"
   ]
  },
  {
   "cell_type": "code",
   "execution_count": 1,
   "id": "42fffb69",
   "metadata": {},
   "outputs": [
    {
     "name": "stderr",
     "output_type": "stream",
     "text": [
      "* Owlready2 * Warning: optimized Cython parser module 'owlready2_optimized' is not available, defaulting to slower Python implementation\n",
      "* Owlready2 * WARNING: ObjectProperty http://www.semanticweb.org/dell/ontologies/2021/9/programTv#برنامج belongs to more than one entity types: [owl.ObjectProperty, program tv.programTv]; I'm trying to fix it...\n",
      "* Owlready2 * WARNING: ObjectProperty http://www.semanticweb.org/dell/ontologies/2021/9/programTv#تمثيل belongs to more than one entity types: [owl.ObjectProperty, program tv.programTv, owl.topObjectProperty]; I'm trying to fix it...\n",
      "* Owlready2 * WARNING: ObjectProperty http://www.semanticweb.org/dell/ontologies/2021/9/programTv#تنشيط belongs to more than one entity types: [owl.ObjectProperty, program tv.programTv]; I'm trying to fix it...\n",
      "* Owlready2 * Running HermiT...\n",
      "    java -Xmx2000M -cp C:\\Users\\DELL\\anaconda3\\envs\\new_en\\lib\\site-packages\\owlready2\\hermit;C:\\Users\\DELL\\anaconda3\\envs\\new_en\\lib\\site-packages\\owlready2\\hermit\\HermiT.jar org.semanticweb.HermiT.cli.CommandLine -c -O -D -I file:///C:/Users/DELL/AppData/Local/Temp/tmpzz7o5cja\n",
      "* Owlready2 * HermiT took 42.5313720703125 seconds\n",
      "* Owlready * (NB: only changes on entities loaded in Python are shown, other changes are done but not listed)\n"
     ]
    },
    {
     "name": "stdout",
     "output_type": "stream",
     "text": [
      "[[6, owl.ObjectProperty], [6, 12], [6, program tv.programTv], [10, owl.topObjectProperty], [program tv.تمثيل, program tv.تمثل], [program tv.تمثيل, program tv.يمثل]]\n"
     ]
    }
   ],
   "source": [
    "from owlready2 import *\n",
    "from rdflib import *\n",
    "onto3= get_ontology(\"C:/Users/DELL/Desktop/ontology/program tv.owl\").load()\n",
    "sync_reasoner([onto3])\n",
    "graph = default_world.as_rdflib_graph()\n",
    "requete=list(graph.query_owlready(\"\"\"\n",
    "PREFIX rdf: <http://www.w3.org/1999/02/22-rdf-syntax-ns#>\n",
    "PREFIX owl: <http://www.w3.org/2002/07/owl#>\n",
    "PREFIX rdfs: <http://www.w3.org/2000/01/rdf-schema#>\n",
    "PREFIX xsd: <http://www.w3.org/2001/XMLSchema#>\n",
    "PREFIX pz: <http://www.semanticweb.org/dell/ontologies/2021/9/restaurant.owl>\n",
    "SELECT ?b  ?ins where\n",
    "{<http://www.semanticweb.org/dell/ontologies/2021/9/programTv#تمثيل> ?b ?ins.}\n",
    "\n",
    "\n",
    "\n",
    "\"\"\"))\n",
    "print(requete)"
   ]
  },
  {
   "cell_type": "code",
   "execution_count": 5,
   "id": "d3f30a11",
   "metadata": {},
   "outputs": [
    {
     "data": {
      "text/plain": [
       "[[program tv.تمثيل, program tv.تمثل], [program tv.تمثيل, program tv.يمثل]]"
      ]
     },
     "execution_count": 5,
     "metadata": {},
     "output_type": "execute_result"
    }
   ],
   "source": [
    "del requete[0]\n",
    "requete"
   ]
  },
  {
   "cell_type": "code",
   "execution_count": null,
   "id": "85ceca5f",
   "metadata": {},
   "outputs": [],
   "source": []
  },
  {
   "cell_type": "code",
   "execution_count": 6,
   "id": "ecd36c89",
   "metadata": {},
   "outputs": [],
   "source": [
    "import csv\n",
    "with open('تمثيل.csv','w+',newline='',encoding='UTF_8') as fichiercsv:\n",
    "    writer=csv.writer(fichiercsv)\n",
    "    writer.writerow(['Relation','Aspect'])\n",
    "    requete2=[]\n",
    "    for req in range(len(requete)):\n",
    "        lst=[]\n",
    "        for r in range(len(requete[req])):\n",
    "            requete[req][r]=str(requete[req][r]).split(\".\")\n",
    "            requete[req][r][1]=requete[req][r][1].replace(\".\",\" \")\n",
    "            lst.append(requete[req][r][1])\n",
    "        requete2.append(lst)\n",
    "    for r in range(len(requete2)):\n",
    "        writer.writerow([requete2[r][0],requete2[r][1]])"
   ]
  },
  {
   "cell_type": "code",
   "execution_count": null,
   "id": "a8fef0b6",
   "metadata": {},
   "outputs": [],
   "source": []
  },
  {
   "cell_type": "code",
   "execution_count": 1,
   "id": "4d3abd36",
   "metadata": {},
   "outputs": [
    {
     "name": "stderr",
     "output_type": "stream",
     "text": [
      "* Owlready2 * Warning: optimized Cython parser module 'owlready2_optimized' is not available, defaulting to slower Python implementation\n",
      "* Owlready2 * WARNING: ObjectProperty http://www.semanticweb.org/dell/ontologies/2021/9/programTv#برنامج belongs to more than one entity types: [owl.ObjectProperty, program tv.programTv]; I'm trying to fix it...\n",
      "* Owlready2 * WARNING: ObjectProperty http://www.semanticweb.org/dell/ontologies/2021/9/programTv#تمثيل belongs to more than one entity types: [owl.ObjectProperty, program tv.programTv, owl.topObjectProperty]; I'm trying to fix it...\n",
      "* Owlready2 * WARNING: ObjectProperty http://www.semanticweb.org/dell/ontologies/2021/9/programTv#تنشيط belongs to more than one entity types: [owl.ObjectProperty, program tv.programTv]; I'm trying to fix it...\n",
      "* Owlready2 * Running HermiT...\n",
      "    java -Xmx2000M -cp C:\\Users\\DELL\\anaconda3\\envs\\new_en\\lib\\site-packages\\owlready2\\hermit;C:\\Users\\DELL\\anaconda3\\envs\\new_en\\lib\\site-packages\\owlready2\\hermit\\HermiT.jar org.semanticweb.HermiT.cli.CommandLine -c -O -D -I file:///C:/Users/DELL/AppData/Local/Temp/tmpyz6hmt5z\n",
      "* Owlready2 * HermiT took 34.273842573165894 seconds\n",
      "* Owlready * (NB: only changes on entities loaded in Python are shown, other changes are done but not listed)\n"
     ]
    },
    {
     "name": "stdout",
     "output_type": "stream",
     "text": [
      "[[6, owl.ObjectProperty], [6, 12], [6, program tv.programTv], [program tv.تنشيط, program tv.تنشط], [program tv.تنشيط, program tv.ينشط]]\n"
     ]
    }
   ],
   "source": [
    "from owlready2 import *\n",
    "from rdflib import *\n",
    "onto3= get_ontology(\"C:/Users/DELL/Desktop/ontology/program tv.owl\").load()\n",
    "sync_reasoner([onto3])\n",
    "graph = default_world.as_rdflib_graph()\n",
    "requete=list(graph.query_owlready(\"\"\"\n",
    "PREFIX rdf: <http://www.w3.org/1999/02/22-rdf-syntax-ns#>\n",
    "PREFIX owl: <http://www.w3.org/2002/07/owl#>\n",
    "PREFIX rdfs: <http://www.w3.org/2000/01/rdf-schema#>\n",
    "PREFIX xsd: <http://www.w3.org/2001/XMLSchema#>\n",
    "PREFIX pz: <http://www.semanticweb.org/dell/ontologies/2021/9/restaurant.owl>\n",
    "SELECT ?b  ?ins where\n",
    "{<http://www.semanticweb.org/dell/ontologies/2021/9/programTv#تنشيط> ?b ?ins.}\n",
    "\n",
    "\n",
    "\n",
    "\"\"\"))\n",
    "print(requete)"
   ]
  },
  {
   "cell_type": "code",
   "execution_count": 4,
   "id": "ca7165c9",
   "metadata": {},
   "outputs": [
    {
     "data": {
      "text/plain": [
       "[[program tv.تنشيط, program tv.تنشط], [program tv.تنشيط, program tv.ينشط]]"
      ]
     },
     "execution_count": 4,
     "metadata": {},
     "output_type": "execute_result"
    }
   ],
   "source": [
    "del requete[0]\n",
    "requete"
   ]
  },
  {
   "cell_type": "code",
   "execution_count": 5,
   "id": "a2a20ad4",
   "metadata": {},
   "outputs": [],
   "source": [
    "import csv\n",
    "with open('تنشيط.csv','w+',newline='',encoding='UTF_8') as fichiercsv:\n",
    "    writer=csv.writer(fichiercsv)\n",
    "    writer.writerow(['Relation','Aspect'])\n",
    "    requete2=[]\n",
    "    for req in range(len(requete)):\n",
    "        lst=[]\n",
    "        for r in range(len(requete[req])):\n",
    "            requete[req][r]=str(requete[req][r]).split(\".\")\n",
    "            requete[req][r][1]=requete[req][r][1].replace(\".\",\" \")\n",
    "            lst.append(requete[req][r][1])\n",
    "        requete2.append(lst)\n",
    "    for r in range(len(requete2)):\n",
    "        writer.writerow([requete2[r][0],requete2[r][1]])"
   ]
  },
  {
   "cell_type": "markdown",
   "id": "e75c2845",
   "metadata": {},
   "source": [
    "# سوم"
   ]
  },
  {
   "cell_type": "code",
   "execution_count": 1,
   "id": "87c0973f",
   "metadata": {},
   "outputs": [
    {
     "name": "stderr",
     "output_type": "stream",
     "text": [
      "* Owlready2 * Warning: optimized Cython parser module 'owlready2_optimized' is not available, defaulting to slower Python implementation\n",
      "* Owlready2 * WARNING: ObjectProperty http://www.semanticweb.org/dell/ontologies/2021/9/restaurant.owl#اكل belongs to more than one entity types: [owl.ObjectProperty, restaurant.food]; I'm trying to fix it...\n",
      "* Owlready2 * WARNING: ObjectProperty http://www.semanticweb.org/dell/ontologies/2021/9/restaurant.owl#سوم belongs to more than one entity types: [owl.ObjectProperty, restaurant.prix]; I'm trying to fix it...\n",
      "* Owlready2 * WARNING: ObjectProperty http://www.semanticweb.org/dell/ontologies/2021/9/restaurant.owl#شاف belongs to more than one entity types: [owl.ObjectProperty, restaurant.chef]; I'm trying to fix it...\n",
      "* Owlready2 * WARNING: ObjectProperty http://www.semanticweb.org/dell/ontologies/2021/9/restaurant.owl#عنوان belongs to more than one entity types: [owl.ObjectProperty, restaurant.localisation]; I'm trying to fix it...\n",
      "* Owlready2 * WARNING: ObjectProperty http://www.semanticweb.org/dell/ontologies/2021/9/restaurant.owl#مطعم belongs to more than one entity types: [owl.ObjectProperty, restaurant.resto]; I'm trying to fix it...\n",
      "* Owlready2 * Running HermiT...\n",
      "    java -Xmx2000M -cp C:\\Users\\DELL\\anaconda3\\envs\\new_en\\lib\\site-packages\\owlready2\\hermit;C:\\Users\\DELL\\anaconda3\\envs\\new_en\\lib\\site-packages\\owlready2\\hermit\\HermiT.jar org.semanticweb.HermiT.cli.CommandLine -c -O -D -I file:///C:/Users/DELL/AppData/Local/Temp/tmphfvyncmy\n",
      "* Owlready2 * HermiT took 36.970152616500854 seconds\n",
      "* Owlready * (NB: only changes on entities loaded in Python are shown, other changes are done but not listed)\n"
     ]
    },
    {
     "name": "stdout",
     "output_type": "stream",
     "text": [
      "[[6, owl.ObjectProperty], [6, 12], [6, restaurant.prix], [restaurant.سوم, restaurant.اسعار], [restaurant.سوم, restaurant.بقداش], [restaurant.سوم, restaurant.دينار], [restaurant.سوم, restaurant.دينار5], [restaurant.سوم, restaurant.رخيص], [restaurant.سوم, restaurant.سعر], [restaurant.سوم, restaurant.سومو], [restaurant.سوم, restaurant.عشرالاف], [restaurant.سوم, restaurant.غالي], [restaurant.سوم, restaurant.غاليه], [restaurant.سوم, restaurant.غلات], [restaurant.سوم, restaurant.قداش], [restaurant.سوم, restaurant.1200مليم], [restaurant.سوم, restaurant.2500], [restaurant.سوم, restaurant.30_دينار], [restaurant.سوم, restaurant.30د], [restaurant.سوم, restaurant.500]]\n"
     ]
    }
   ],
   "source": [
    "from owlready2 import *\n",
    "from rdflib import *\n",
    "onto3= get_ontology(\"restaurant.owl\").load()\n",
    "sync_reasoner([onto3])\n",
    "graph = default_world.as_rdflib_graph()\n",
    "requete1=list(graph.query_owlready(\"\"\"\n",
    "PREFIX rdf: <http://www.w3.org/1999/02/22-rdf-syntax-ns#>\n",
    "PREFIX owl: <http://www.w3.org/2002/07/owl#>\n",
    "PREFIX rdfs: <http://www.w3.org/2000/01/rdf-schema#>\n",
    "PREFIX xsd: <http://www.w3.org/2001/XMLSchema#>\n",
    "PREFIX pz: <http://www.semanticweb.org/dell/ontologies/2021/9/restaurant.owl>\n",
    "SELECT ?b  ?ins where\n",
    "{<http://www.semanticweb.org/dell/ontologies/2021/9/restaurant.owl#سوم> ?b ?ins.}\n",
    "\n",
    "\n",
    "\n",
    "\"\"\"))\n",
    "print(requete1)"
   ]
  },
  {
   "cell_type": "code",
   "execution_count": 4,
   "id": "8188414e",
   "metadata": {},
   "outputs": [
    {
     "data": {
      "text/plain": [
       "[[restaurant.سوم, restaurant.اسعار],\n",
       " [restaurant.سوم, restaurant.بقداش],\n",
       " [restaurant.سوم, restaurant.دينار],\n",
       " [restaurant.سوم, restaurant.دينار5],\n",
       " [restaurant.سوم, restaurant.رخيص],\n",
       " [restaurant.سوم, restaurant.سعر],\n",
       " [restaurant.سوم, restaurant.سومو],\n",
       " [restaurant.سوم, restaurant.عشرالاف],\n",
       " [restaurant.سوم, restaurant.غالي],\n",
       " [restaurant.سوم, restaurant.غاليه],\n",
       " [restaurant.سوم, restaurant.غلات],\n",
       " [restaurant.سوم, restaurant.قداش],\n",
       " [restaurant.سوم, restaurant.1200مليم],\n",
       " [restaurant.سوم, restaurant.2500],\n",
       " [restaurant.سوم, restaurant.30_دينار],\n",
       " [restaurant.سوم, restaurant.30د],\n",
       " [restaurant.سوم, restaurant.500]]"
      ]
     },
     "execution_count": 4,
     "metadata": {},
     "output_type": "execute_result"
    }
   ],
   "source": [
    "del requete1[0]\n",
    "\n",
    "requete1"
   ]
  },
  {
   "cell_type": "code",
   "execution_count": 10,
   "id": "fbe56078",
   "metadata": {},
   "outputs": [
    {
     "data": {
      "text/plain": [
       "['restaurant', 'بقداش']"
      ]
     },
     "execution_count": 10,
     "metadata": {},
     "output_type": "execute_result"
    }
   ],
   "source": [
    "requete1[0][1]"
   ]
  },
  {
   "cell_type": "code",
   "execution_count": 5,
   "id": "bc9c0422",
   "metadata": {},
   "outputs": [],
   "source": [
    "import csv\n",
    "with open('prix.csv','w+',newline='',encoding='UTF_8') as fichiercsv:\n",
    "    writer=csv.writer(fichiercsv)\n",
    "    writer.writerow(['Relation','Aspect'])\n",
    "    requete2=[]\n",
    "    for req in range(len(requete1)):\n",
    "        lst=[]\n",
    "        for r in range(len(requete1[req])):\n",
    "            requete1[req][r]=str(requete1[req][r]).split(\".\")\n",
    "            requete1[req][r][1]=requete1[req][r][1].replace(\".\",\" \")\n",
    "            lst.append(requete1[req][r][1])\n",
    "        requete2.append(lst)\n",
    "    for r in range(len(requete2)):\n",
    "        writer.writerow([requete2[r][0],requete2[r][1]])"
   ]
  },
  {
   "cell_type": "markdown",
   "id": "55cfbe0f",
   "metadata": {},
   "source": [
    "# شاف"
   ]
  },
  {
   "cell_type": "code",
   "execution_count": 1,
   "id": "c9589c82",
   "metadata": {},
   "outputs": [
    {
     "name": "stderr",
     "output_type": "stream",
     "text": [
      "* Owlready2 * Warning: optimized Cython parser module 'owlready2_optimized' is not available, defaulting to slower Python implementation\n",
      "* Owlready2 * WARNING: ObjectProperty http://www.semanticweb.org/dell/ontologies/2021/9/restaurant.owl#اكل belongs to more than one entity types: [owl.ObjectProperty, restaurant.food]; I'm trying to fix it...\n",
      "* Owlready2 * WARNING: ObjectProperty http://www.semanticweb.org/dell/ontologies/2021/9/restaurant.owl#سوم belongs to more than one entity types: [owl.ObjectProperty, restaurant.prix]; I'm trying to fix it...\n",
      "* Owlready2 * WARNING: ObjectProperty http://www.semanticweb.org/dell/ontologies/2021/9/restaurant.owl#شاف belongs to more than one entity types: [owl.ObjectProperty, restaurant.chef]; I'm trying to fix it...\n",
      "* Owlready2 * WARNING: ObjectProperty http://www.semanticweb.org/dell/ontologies/2021/9/restaurant.owl#عنوان belongs to more than one entity types: [owl.ObjectProperty, restaurant.localisation]; I'm trying to fix it...\n",
      "* Owlready2 * WARNING: ObjectProperty http://www.semanticweb.org/dell/ontologies/2021/9/restaurant.owl#مطعم belongs to more than one entity types: [owl.ObjectProperty, restaurant.resto]; I'm trying to fix it...\n",
      "* Owlready2 * Running HermiT...\n",
      "    java -Xmx2000M -cp C:\\Users\\DELL\\anaconda3\\envs\\new_en\\lib\\site-packages\\owlready2\\hermit;C:\\Users\\DELL\\anaconda3\\envs\\new_en\\lib\\site-packages\\owlready2\\hermit\\HermiT.jar org.semanticweb.HermiT.cli.CommandLine -c -O -D -I file:///C:/Users/DELL/AppData/Local/Temp/tmph7oyvdun\n",
      "* Owlready2 * HermiT took 24.865384101867676 seconds\n",
      "* Owlready * (NB: only changes on entities loaded in Python are shown, other changes are done but not listed)\n"
     ]
    },
    {
     "name": "stdout",
     "output_type": "stream",
     "text": [
      "[[6, owl.ObjectProperty], [6, 12], [6, restaurant.chef], [restaurant.شاف, restaurant.اخلاق], [restaurant.شاف, restaurant.اصحاب], [restaurant.شاف, restaurant.الاخ], [restaurant.شاف, restaurant.الله_يبارك_فيك], [restaurant.شاف, restaurant.خدمه], [restaurant.شاف, restaurant.راجل], [restaurant.شاف, restaurant.ربي_يرزق], [restaurant.شاف, restaurant.ربي_يعين], [restaurant.شاف, restaurant.صاحب], [restaurant.شاف, restaurant.عياري], [restaurant.شاف, restaurant.كعبورا], [restaurant.شاف, restaurant.لله_يعينو], [restaurant.شاف, restaurant.معلم], [restaurant.شاف, restaurant.ناس], [restaurant.شاف, restaurant.يوفقك]]\n"
     ]
    }
   ],
   "source": [
    "from owlready2 import *\n",
    "from rdflib import *\n",
    "onto3= get_ontology(\"restaurant.owl\").load()\n",
    "sync_reasoner([onto3])\n",
    "graph = default_world.as_rdflib_graph()\n",
    "requete1=list(graph.query_owlready(\"\"\"\n",
    "PREFIX rdf: <http://www.w3.org/1999/02/22-rdf-syntax-ns#>\n",
    "PREFIX owl: <http://www.w3.org/2002/07/owl#>\n",
    "PREFIX rdfs: <http://www.w3.org/2000/01/rdf-schema#>\n",
    "PREFIX xsd: <http://www.w3.org/2001/XMLSchema#>\n",
    "PREFIX pz: <http://www.semanticweb.org/dell/ontologies/2021/9/restaurant.owl>\n",
    "SELECT ?b  ?ins where\n",
    "{<http://www.semanticweb.org/dell/ontologies/2021/9/restaurant.owl#شاف> ?b ?ins.}\n",
    "\n",
    "\n",
    "\n",
    "\"\"\"))\n",
    "print(requete1)"
   ]
  },
  {
   "cell_type": "code",
   "execution_count": 4,
   "id": "32f89083",
   "metadata": {},
   "outputs": [
    {
     "data": {
      "text/plain": [
       "[[restaurant.شاف, restaurant.اخلاق],\n",
       " [restaurant.شاف, restaurant.اصحاب],\n",
       " [restaurant.شاف, restaurant.الاخ],\n",
       " [restaurant.شاف, restaurant.الله_يبارك_فيك],\n",
       " [restaurant.شاف, restaurant.خدمه],\n",
       " [restaurant.شاف, restaurant.راجل],\n",
       " [restaurant.شاف, restaurant.ربي_يرزق],\n",
       " [restaurant.شاف, restaurant.ربي_يعين],\n",
       " [restaurant.شاف, restaurant.صاحب],\n",
       " [restaurant.شاف, restaurant.عياري],\n",
       " [restaurant.شاف, restaurant.كعبورا],\n",
       " [restaurant.شاف, restaurant.لله_يعينو],\n",
       " [restaurant.شاف, restaurant.معلم],\n",
       " [restaurant.شاف, restaurant.ناس],\n",
       " [restaurant.شاف, restaurant.يوفقك]]"
      ]
     },
     "execution_count": 4,
     "metadata": {},
     "output_type": "execute_result"
    }
   ],
   "source": [
    "del requete1[0]\n",
    "\n",
    "requete1"
   ]
  },
  {
   "cell_type": "code",
   "execution_count": 5,
   "id": "acf6299e",
   "metadata": {},
   "outputs": [],
   "source": [
    "import csv\n",
    "with open('chef.csv','w+',newline='',encoding='UTF_8') as fichiercsv:\n",
    "    writer=csv.writer(fichiercsv)\n",
    "    writer.writerow(['Relation','Aspect'])\n",
    "    requete2=[]\n",
    "    for req in range(len(requete1)):\n",
    "        lst=[]\n",
    "        for r in range(len(requete1[req])):\n",
    "            requete1[req][r]=str(requete1[req][r]).split(\".\")\n",
    "            requete1[req][r][1]=requete1[req][r][1].replace(\".\",\" \")\n",
    "            lst.append(requete1[req][r][1])\n",
    "        requete2.append(lst)\n",
    "    for r in range(len(requete2)):\n",
    "        writer.writerow([requete2[r][0],requete2[r][1]])"
   ]
  },
  {
   "cell_type": "code",
   "execution_count": null,
   "id": "64ae2406",
   "metadata": {},
   "outputs": [],
   "source": [
    "#resto"
   ]
  },
  {
   "cell_type": "code",
   "execution_count": 1,
   "id": "13fcf8fd",
   "metadata": {},
   "outputs": [
    {
     "name": "stderr",
     "output_type": "stream",
     "text": [
      "* Owlready2 * Warning: optimized Cython parser module 'owlready2_optimized' is not available, defaulting to slower Python implementation\n",
      "* Owlready2 * WARNING: ObjectProperty http://www.semanticweb.org/dell/ontologies/2021/9/restaurant.owl#اكل belongs to more than one entity types: [owl.ObjectProperty, restaurant.food]; I'm trying to fix it...\n",
      "* Owlready2 * WARNING: ObjectProperty http://www.semanticweb.org/dell/ontologies/2021/9/restaurant.owl#سوم belongs to more than one entity types: [owl.ObjectProperty, restaurant.prix]; I'm trying to fix it...\n",
      "* Owlready2 * WARNING: ObjectProperty http://www.semanticweb.org/dell/ontologies/2021/9/restaurant.owl#شاف belongs to more than one entity types: [owl.ObjectProperty, restaurant.chef]; I'm trying to fix it...\n",
      "* Owlready2 * WARNING: ObjectProperty http://www.semanticweb.org/dell/ontologies/2021/9/restaurant.owl#عنوان belongs to more than one entity types: [owl.ObjectProperty, restaurant.localisation]; I'm trying to fix it...\n",
      "* Owlready2 * WARNING: ObjectProperty http://www.semanticweb.org/dell/ontologies/2021/9/restaurant.owl#مطعم belongs to more than one entity types: [owl.ObjectProperty, restaurant.resto]; I'm trying to fix it...\n",
      "* Owlready2 * Running HermiT...\n",
      "    java -Xmx2000M -cp C:\\Users\\DELL\\anaconda3\\envs\\new_en\\lib\\site-packages\\owlready2\\hermit;C:\\Users\\DELL\\anaconda3\\envs\\new_en\\lib\\site-packages\\owlready2\\hermit\\HermiT.jar org.semanticweb.HermiT.cli.CommandLine -c -O -D -I file:///C:/Users/DELL/AppData/Local/Temp/tmp3zivvo_h\n",
      "* Owlready2 * HermiT took 21.595110177993774 seconds\n",
      "* Owlready * (NB: only changes on entities loaded in Python are shown, other changes are done but not listed)\n"
     ]
    },
    {
     "name": "stdout",
     "output_type": "stream",
     "text": [
      "[[6, owl.ObjectProperty], [6, 12], [6, restaurant.resto], [restaurant.مطعم, restaurant.حانوت], [restaurant.مطعم, restaurant.حوانت], [restaurant.مطعم, restaurant.خامج], [restaurant.مطعم, restaurant.محل], [restaurant.مطعم, restaurant.مطاعم]]\n"
     ]
    }
   ],
   "source": [
    "from owlready2 import *\n",
    "from rdflib import *\n",
    "onto3= get_ontology(\"restaurant.owl\").load()\n",
    "sync_reasoner([onto3])\n",
    "graph = default_world.as_rdflib_graph()\n",
    "requete1=list(graph.query_owlready(\"\"\"\n",
    "PREFIX rdf: <http://www.w3.org/1999/02/22-rdf-syntax-ns#>\n",
    "PREFIX owl: <http://www.w3.org/2002/07/owl#>\n",
    "PREFIX rdfs: <http://www.w3.org/2000/01/rdf-schema#>\n",
    "PREFIX xsd: <http://www.w3.org/2001/XMLSchema#>\n",
    "PREFIX pz: <http://www.semanticweb.org/dell/ontologies/2021/9/restaurant.owl>\n",
    "SELECT ?b  ?ins where\n",
    "{<http://www.semanticweb.org/dell/ontologies/2021/9/restaurant.owl#مطعم> ?b ?ins.}\n",
    "\n",
    "\n",
    "\n",
    "\"\"\"))\n",
    "print(requete1)"
   ]
  },
  {
   "cell_type": "code",
   "execution_count": 4,
   "id": "0f240c54",
   "metadata": {},
   "outputs": [
    {
     "data": {
      "text/plain": [
       "[[restaurant.مطعم, restaurant.حانوت],\n",
       " [restaurant.مطعم, restaurant.حوانت],\n",
       " [restaurant.مطعم, restaurant.خامج],\n",
       " [restaurant.مطعم, restaurant.محل],\n",
       " [restaurant.مطعم, restaurant.مطاعم]]"
      ]
     },
     "execution_count": 4,
     "metadata": {},
     "output_type": "execute_result"
    }
   ],
   "source": [
    "del requete1[0]\n",
    "\n",
    "requete1"
   ]
  },
  {
   "cell_type": "code",
   "execution_count": 5,
   "id": "43b2317e",
   "metadata": {},
   "outputs": [],
   "source": [
    "import csv\n",
    "with open('resto.csv','w+',newline='',encoding='UTF_8') as fichiercsv:\n",
    "    writer=csv.writer(fichiercsv)\n",
    "    writer.writerow(['Relation','Aspect'])\n",
    "    requete2=[]\n",
    "    for req in range(len(requete1)):\n",
    "        lst=[]\n",
    "        for r in range(len(requete1[req])):\n",
    "            requete1[req][r]=str(requete1[req][r]).split(\".\")\n",
    "            requete1[req][r][1]=requete1[req][r][1].replace(\".\",\" \")\n",
    "            lst.append(requete1[req][r][1])\n",
    "        requete2.append(lst)\n",
    "    for r in range(len(requete2)):\n",
    "        writer.writerow([requete2[r][0],requete2[r][1]])"
   ]
  },
  {
   "cell_type": "code",
   "execution_count": null,
   "id": "1bf979de",
   "metadata": {},
   "outputs": [],
   "source": []
  },
  {
   "cell_type": "code",
   "execution_count": null,
   "id": "ea54499f",
   "metadata": {},
   "outputs": [],
   "source": []
  },
  {
   "cell_type": "code",
   "execution_count": 1,
   "id": "77652d19",
   "metadata": {},
   "outputs": [
    {
     "name": "stderr",
     "output_type": "stream",
     "text": [
      "* Owlready2 * Warning: optimized Cython parser module 'owlready2_optimized' is not available, defaulting to slower Python implementation\n",
      "* Owlready2 * WARNING: ObjectProperty http://www.semanticweb.org/dell/ontologies/2021/9/restaurant.owl#اكل belongs to more than one entity types: [owl.ObjectProperty, restaurant.food]; I'm trying to fix it...\n",
      "* Owlready2 * WARNING: ObjectProperty http://www.semanticweb.org/dell/ontologies/2021/9/restaurant.owl#سوم belongs to more than one entity types: [owl.ObjectProperty, restaurant.prix]; I'm trying to fix it...\n",
      "* Owlready2 * WARNING: ObjectProperty http://www.semanticweb.org/dell/ontologies/2021/9/restaurant.owl#شاف belongs to more than one entity types: [owl.ObjectProperty, restaurant.chef]; I'm trying to fix it...\n",
      "* Owlready2 * WARNING: ObjectProperty http://www.semanticweb.org/dell/ontologies/2021/9/restaurant.owl#عنوان belongs to more than one entity types: [owl.ObjectProperty, restaurant.localisation]; I'm trying to fix it...\n",
      "* Owlready2 * WARNING: ObjectProperty http://www.semanticweb.org/dell/ontologies/2021/9/restaurant.owl#مطعم belongs to more than one entity types: [owl.ObjectProperty, restaurant.resto]; I'm trying to fix it...\n",
      "* Owlready2 * Running HermiT...\n",
      "    java -Xmx2000M -cp C:\\Users\\DELL\\anaconda3\\envs\\new_en\\lib\\site-packages\\owlready2\\hermit;C:\\Users\\DELL\\anaconda3\\envs\\new_en\\lib\\site-packages\\owlready2\\hermit\\HermiT.jar org.semanticweb.HermiT.cli.CommandLine -c -O -D -I file:///C:/Users/DELL/AppData/Local/Temp/tmp8r2hlx12\n",
      "* Owlready2 * HermiT took 25.52181100845337 seconds\n",
      "* Owlready * (NB: only changes on entities loaded in Python are shown, other changes are done but not listed)\n"
     ]
    },
    {
     "name": "stdout",
     "output_type": "stream",
     "text": [
      "[[6, 12], [6, restaurant.clean], [restaurant.نظافة, restaurant.اوساخ], [restaurant.نظافة, restaurant.تبلبيز], [restaurant.نظافة, restaurant.نضافه], [restaurant.نظافة, restaurant.وسخ]]\n"
     ]
    }
   ],
   "source": [
    "from owlready2 import *\n",
    "from rdflib import *\n",
    "onto3= get_ontology(\"restaurant.owl\").load()\n",
    "sync_reasoner([onto3])\n",
    "graph = default_world.as_rdflib_graph()\n",
    "requete1=list(graph.query_owlready(\"\"\"\n",
    "PREFIX rdf: <http://www.w3.org/1999/02/22-rdf-syntax-ns#>\n",
    "PREFIX owl: <http://www.w3.org/2002/07/owl#>\n",
    "PREFIX rdfs: <http://www.w3.org/2000/01/rdf-schema#>\n",
    "PREFIX xsd: <http://www.w3.org/2001/XMLSchema#>\n",
    "PREFIX pz: <http://www.semanticweb.org/dell/ontologies/2021/9/restaurant.owl>\n",
    "SELECT ?b  ?ins where\n",
    "{<http://www.semanticweb.org/dell/ontologies/2021/9/restaurant.owl#نظافه> ?b ?ins.}\n",
    "\n",
    "\n",
    "\n",
    "\"\"\"))\n",
    "print(requete1)"
   ]
  },
  {
   "cell_type": "code",
   "execution_count": 3,
   "id": "1191752f",
   "metadata": {},
   "outputs": [
    {
     "data": {
      "text/plain": [
       "[[restaurant.نظافة, restaurant.اوساخ],\n",
       " [restaurant.نظافة, restaurant.تبلبيز],\n",
       " [restaurant.نظافة, restaurant.نضافه],\n",
       " [restaurant.نظافة, restaurant.وسخ]]"
      ]
     },
     "execution_count": 3,
     "metadata": {},
     "output_type": "execute_result"
    }
   ],
   "source": [
    "del requete1[0]\n",
    "\n",
    "requete1"
   ]
  },
  {
   "cell_type": "code",
   "execution_count": null,
   "id": "28044c9e",
   "metadata": {},
   "outputs": [],
   "source": []
  },
  {
   "cell_type": "code",
   "execution_count": 4,
   "id": "67630990",
   "metadata": {},
   "outputs": [],
   "source": [
    "import csv\n",
    "with open('clean.csv','w+',newline='',encoding='UTF_8') as fichiercsv:\n",
    "    writer=csv.writer(fichiercsv)\n",
    "    writer.writerow(['Relation','Aspect'])\n",
    "    requete2=[]\n",
    "    for req in range(len(requete1)):\n",
    "        lst=[]\n",
    "        for r in range(len(requete1[req])):\n",
    "            requete1[req][r]=str(requete1[req][r]).split(\".\")\n",
    "            requete1[req][r][1]=requete1[req][r][1].replace(\".\",\" \")\n",
    "            lst.append(requete1[req][r][1])\n",
    "        requete2.append(lst)\n",
    "    for r in range(len(requete2)):\n",
    "        writer.writerow([requete2[r][0],requete2[r][1]])"
   ]
  },
  {
   "cell_type": "code",
   "execution_count": null,
   "id": "5548520a",
   "metadata": {},
   "outputs": [],
   "source": []
  }
 ],
 "metadata": {
  "kernelspec": {
   "display_name": "Python 3 (ipykernel)",
   "language": "python",
   "name": "python3"
  },
  "language_info": {
   "codemirror_mode": {
    "name": "ipython",
    "version": 3
   },
   "file_extension": ".py",
   "mimetype": "text/x-python",
   "name": "python",
   "nbconvert_exporter": "python",
   "pygments_lexer": "ipython3",
   "version": "3.7.11"
  }
 },
 "nbformat": 4,
 "nbformat_minor": 5
}
