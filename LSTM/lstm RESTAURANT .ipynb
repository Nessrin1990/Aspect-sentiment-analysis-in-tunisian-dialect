{
 "cells": [
  {
   "cell_type": "code",
   "execution_count": 4,
   "metadata": {
    "_cell_guid": "6c53202d-5c34-4859-e7e9-8ef5c7068287",
    "_uuid": "717bb968c36b9325c7d4cae5724a3672e49ff243"
   },
   "outputs": [],
   "source": [
    "\n",
    "import numpy as np # linear algebra\n",
    "import pandas as pd # data processing, CSV file I/O (e.g. pd.read_csv)\n",
    "\n",
    "from sklearn.feature_extraction.text import CountVectorizer\n",
    "from keras.preprocessing.text import Tokenizer\n",
    "from keras.preprocessing.sequence import pad_sequences\n",
    "from keras.models import Sequential\n",
    "from keras.layers import Dense, Embedding, LSTM, SpatialDropout1D\n",
    "from sklearn.model_selection import train_test_split\n",
    "from keras.utils.np_utils import to_categorical\n",
    "from sklearn.utils import resample\n",
    "from sklearn.utils import shuffle\n",
    "from sklearn.metrics import confusion_matrix,classification_report\n",
    "import re\n",
    "# Input data files are available in the \"../input/\" directory.\n",
    "# For example, running this (by clicking run or pressing Shift+Enter) will list the files in the input directory"
   ]
  },
  {
   "cell_type": "code",
   "execution_count": 3,
   "metadata": {},
   "outputs": [
    {
     "name": "stdout",
     "output_type": "stream",
     "text": [
      "Name: tensorflow\n",
      "Version: 2.3.0\n",
      "Summary: TensorFlow is an open source machine learning framework for everyone.\n",
      "Home-page: https://www.tensorflow.org/\n",
      "Author: Google Inc.\n",
      "Author-email: packages@tensorflow.org\n",
      "License: Apache 2.0\n",
      "Location: c:\\users\\dell\\anaconda3\\envs\\new_en\\lib\\site-packages\n",
      "Requires: grpcio, gast, six, scipy, protobuf, tensorboard, wrapt, wheel, astunparse, keras-preprocessing, google-pasta, absl-py, h5py, termcolor, tensorflow-estimator, numpy, opt-einsum\n",
      "Required-by: \n"
     ]
    }
   ],
   "source": [
    "!pip show tensorflow\n"
   ]
  },
  {
   "cell_type": "code",
   "execution_count": 5,
   "metadata": {},
   "outputs": [
    {
     "data": {
      "text/html": [
       "<div>\n",
       "<style scoped>\n",
       "    .dataframe tbody tr th:only-of-type {\n",
       "        vertical-align: middle;\n",
       "    }\n",
       "\n",
       "    .dataframe tbody tr th {\n",
       "        vertical-align: top;\n",
       "    }\n",
       "\n",
       "    .dataframe thead th {\n",
       "        text-align: right;\n",
       "    }\n",
       "</style>\n",
       "<table border=\"1\" class=\"dataframe\">\n",
       "  <thead>\n",
       "    <tr style=\"text-align: right;\">\n",
       "      <th></th>\n",
       "      <th>sentence</th>\n",
       "      <th>polarity</th>\n",
       "      <th>category</th>\n",
       "      <th>aspect</th>\n",
       "    </tr>\n",
       "  </thead>\n",
       "  <tbody>\n",
       "    <tr>\n",
       "      <th>0</th>\n",
       "      <td>نموت علي اكل تونسي محرحر</td>\n",
       "      <td>Positive</td>\n",
       "      <td>FOOD#QUALITY</td>\n",
       "      <td>اكل</td>\n",
       "    </tr>\n",
       "    <tr>\n",
       "      <th>1</th>\n",
       "      <td>شعب هريسه اثبت وجود</td>\n",
       "      <td>Positive</td>\n",
       "      <td>GENERAL</td>\n",
       "      <td>NaN</td>\n",
       "    </tr>\n",
       "    <tr>\n",
       "      <th>2</th>\n",
       "      <td>انا فلسطي بفتخر انو تونس عرب مثلي تحيه لبلد را...</td>\n",
       "      <td>Positive</td>\n",
       "      <td>GENERAL</td>\n",
       "      <td>NaN</td>\n",
       "    </tr>\n",
       "    <tr>\n",
       "      <th>3</th>\n",
       "      <td>والله اطيب واذكي شعب ومضياف وشعب راقي تونس بوا...</td>\n",
       "      <td>Positive</td>\n",
       "      <td>GENERAL</td>\n",
       "      <td>NaN</td>\n",
       "    </tr>\n",
       "    <tr>\n",
       "      <th>4</th>\n",
       "      <td>والله هذا شاب تونسي رجال وكريم وطيب و ابن ناس ...</td>\n",
       "      <td>Positive</td>\n",
       "      <td>GENERAL</td>\n",
       "      <td>NaN</td>\n",
       "    </tr>\n",
       "    <tr>\n",
       "      <th>...</th>\n",
       "      <td>...</td>\n",
       "      <td>...</td>\n",
       "      <td>...</td>\n",
       "      <td>...</td>\n",
       "    </tr>\n",
       "    <tr>\n",
       "      <th>4224</th>\n",
       "      <td>مضر</td>\n",
       "      <td>Negative</td>\n",
       "      <td>RESTAURANT#cleanliness</td>\n",
       "      <td>نظافة</td>\n",
       "    </tr>\n",
       "    <tr>\n",
       "      <th>4225</th>\n",
       "      <td>ياسر مسخ</td>\n",
       "      <td>Negative</td>\n",
       "      <td>RESTAURANT#cleanliness</td>\n",
       "      <td>نظافة</td>\n",
       "    </tr>\n",
       "    <tr>\n",
       "      <th>4226</th>\n",
       "      <td>ملا تبلبيز</td>\n",
       "      <td>Negative</td>\n",
       "      <td>RESTAURANT#cleanliness</td>\n",
       "      <td>نظافة</td>\n",
       "    </tr>\n",
       "    <tr>\n",
       "      <th>4227</th>\n",
       "      <td>بنينه برشا و نظيفه انظف من محل عصريه نظيفه من ...</td>\n",
       "      <td>Positive</td>\n",
       "      <td>FOOD#QUALITY</td>\n",
       "      <td>اكل</td>\n",
       "    </tr>\n",
       "    <tr>\n",
       "      <th>4228</th>\n",
       "      <td>بنينه برشا و نظيفه انظف من محل عصريه نظيفه من ...</td>\n",
       "      <td>Positive</td>\n",
       "      <td>RESTAURANT#cleanliness</td>\n",
       "      <td>نظافة</td>\n",
       "    </tr>\n",
       "  </tbody>\n",
       "</table>\n",
       "<p>4229 rows × 4 columns</p>\n",
       "</div>"
      ],
      "text/plain": [
       "                                               sentence  polarity  \\\n",
       "0                              نموت علي اكل تونسي محرحر  Positive   \n",
       "1                                   شعب هريسه اثبت وجود  Positive   \n",
       "2     انا فلسطي بفتخر انو تونس عرب مثلي تحيه لبلد را...  Positive   \n",
       "3     والله اطيب واذكي شعب ومضياف وشعب راقي تونس بوا...  Positive   \n",
       "4     والله هذا شاب تونسي رجال وكريم وطيب و ابن ناس ...  Positive   \n",
       "...                                                 ...       ...   \n",
       "4224                                                مضر  Negative   \n",
       "4225                                           ياسر مسخ  Negative   \n",
       "4226                                         ملا تبلبيز  Negative   \n",
       "4227  بنينه برشا و نظيفه انظف من محل عصريه نظيفه من ...  Positive   \n",
       "4228  بنينه برشا و نظيفه انظف من محل عصريه نظيفه من ...  Positive   \n",
       "\n",
       "                    category aspect  \n",
       "0               FOOD#QUALITY    اكل  \n",
       "1                    GENERAL    NaN  \n",
       "2                    GENERAL    NaN  \n",
       "3                    GENERAL    NaN  \n",
       "4                    GENERAL    NaN  \n",
       "...                      ...    ...  \n",
       "4224  RESTAURANT#cleanliness  نظافة  \n",
       "4225  RESTAURANT#cleanliness  نظافة  \n",
       "4226  RESTAURANT#cleanliness  نظافة  \n",
       "4227            FOOD#QUALITY    اكل  \n",
       "4228  RESTAURANT#cleanliness  نظافة  \n",
       "\n",
       "[4229 rows x 4 columns]"
      ]
     },
     "execution_count": 5,
     "metadata": {},
     "output_type": "execute_result"
    }
   ],
   "source": [
    "dat = pd.read_csv('C:/Users/DELL/Desktop/4 dataset/restaurant1.csv',error_bad_lines=False , encoding='utf-8')\n",
    "\n",
    "dat"
   ]
  },
  {
   "cell_type": "code",
   "execution_count": 3,
   "metadata": {},
   "outputs": [],
   "source": [
    "from sklearn.model_selection import train_test_split\n",
    "import pandas as pd\n",
    "train, test = train_test_split (dat, test_size= 0.20)\n",
    "train.to_csv('train1.csv', index=\"true\")\n",
    "test.to_csv('test1.csv', index=\"true\")"
   ]
  },
  {
   "cell_type": "code",
   "execution_count": 4,
   "metadata": {},
   "outputs": [
    {
     "data": {
      "text/html": [
       "<div>\n",
       "<style scoped>\n",
       "    .dataframe tbody tr th:only-of-type {\n",
       "        vertical-align: middle;\n",
       "    }\n",
       "\n",
       "    .dataframe tbody tr th {\n",
       "        vertical-align: top;\n",
       "    }\n",
       "\n",
       "    .dataframe thead th {\n",
       "        text-align: right;\n",
       "    }\n",
       "</style>\n",
       "<table border=\"1\" class=\"dataframe\">\n",
       "  <thead>\n",
       "    <tr style=\"text-align: right;\">\n",
       "      <th></th>\n",
       "      <th>Unnamed: 0</th>\n",
       "      <th>sentence</th>\n",
       "      <th>polarity</th>\n",
       "      <th>category</th>\n",
       "      <th>aspect</th>\n",
       "    </tr>\n",
       "  </thead>\n",
       "  <tbody>\n",
       "    <tr>\n",
       "      <th>0</th>\n",
       "      <td>1116</td>\n",
       "      <td>محمد عبو يشبه رئيس مصري راحل انور ساد</td>\n",
       "      <td>Positive</td>\n",
       "      <td>PRESIDENT</td>\n",
       "      <td>['رئيس']</td>\n",
       "    </tr>\n",
       "    <tr>\n",
       "      <th>1</th>\n",
       "      <td>3299</td>\n",
       "      <td>فصيح</td>\n",
       "      <td>Neutre</td>\n",
       "      <td>GENERAL</td>\n",
       "      <td>[]</td>\n",
       "    </tr>\n",
       "    <tr>\n",
       "      <th>2</th>\n",
       "      <td>8126</td>\n",
       "      <td>هذا الرجل ليس له أي فلسفة و سياسة للحكم هذا ال...</td>\n",
       "      <td>Negative</td>\n",
       "      <td>PRESIDENT</td>\n",
       "      <td>['رئيس']</td>\n",
       "    </tr>\n",
       "    <tr>\n",
       "      <th>3</th>\n",
       "      <td>1526</td>\n",
       "      <td>مبروك الى تونس على هذا عرس ديمقراطي</td>\n",
       "      <td>Neutre</td>\n",
       "      <td>GENERAL</td>\n",
       "      <td>[]</td>\n",
       "    </tr>\n",
       "    <tr>\n",
       "      <th>4</th>\n",
       "      <td>3026</td>\n",
       "      <td>لست مقتنعا برنامجه لكني سانتخبه</td>\n",
       "      <td>Negative</td>\n",
       "      <td>PROGRAM</td>\n",
       "      <td>['برنامج']</td>\n",
       "    </tr>\n",
       "    <tr>\n",
       "      <th>...</th>\n",
       "      <td>...</td>\n",
       "      <td>...</td>\n",
       "      <td>...</td>\n",
       "      <td>...</td>\n",
       "      <td>...</td>\n",
       "    </tr>\n",
       "    <tr>\n",
       "      <th>6542</th>\n",
       "      <td>4684</td>\n",
       "      <td>وهو يستهزي سواح جزائر</td>\n",
       "      <td>Negative</td>\n",
       "      <td>GENERAL</td>\n",
       "      <td>[]</td>\n",
       "    </tr>\n",
       "    <tr>\n",
       "      <th>6543</th>\n",
       "      <td>7041</td>\n",
       "      <td>راني اتفرج بداية مناظرة اظن بدا متناظر يتفاعل ...</td>\n",
       "      <td>Negative</td>\n",
       "      <td>DEBATE</td>\n",
       "      <td>['مناظره']</td>\n",
       "    </tr>\n",
       "    <tr>\n",
       "      <th>6544</th>\n",
       "      <td>712</td>\n",
       "      <td>اسئلة كلها تعجيزية وظاهر الي كان منشط مجهز روح...</td>\n",
       "      <td>Negative</td>\n",
       "      <td>DIALOGUE</td>\n",
       "      <td>['حوار']</td>\n",
       "    </tr>\n",
       "    <tr>\n",
       "      <th>6545</th>\n",
       "      <td>4493</td>\n",
       "      <td>حاجة الي تفرح الي سيف مكشخ</td>\n",
       "      <td>Neutre</td>\n",
       "      <td>GENERAL</td>\n",
       "      <td>[]</td>\n",
       "    </tr>\n",
       "    <tr>\n",
       "      <th>6546</th>\n",
       "      <td>444</td>\n",
       "      <td>تونس واله سأذهب لانتخاب اول مرة حياتي انا غربة...</td>\n",
       "      <td>Positive</td>\n",
       "      <td>PRESIDENT</td>\n",
       "      <td>['رئيس']</td>\n",
       "    </tr>\n",
       "  </tbody>\n",
       "</table>\n",
       "<p>6547 rows × 5 columns</p>\n",
       "</div>"
      ],
      "text/plain": [
       "      Unnamed: 0                                           sentence  polarity  \\\n",
       "0           1116              محمد عبو يشبه رئيس مصري راحل انور ساد  Positive   \n",
       "1           3299                                               فصيح    Neutre   \n",
       "2           8126  هذا الرجل ليس له أي فلسفة و سياسة للحكم هذا ال...  Negative   \n",
       "3           1526                مبروك الى تونس على هذا عرس ديمقراطي    Neutre   \n",
       "4           3026                    لست مقتنعا برنامجه لكني سانتخبه  Negative   \n",
       "...          ...                                                ...       ...   \n",
       "6542        4684                              وهو يستهزي سواح جزائر  Negative   \n",
       "6543        7041  راني اتفرج بداية مناظرة اظن بدا متناظر يتفاعل ...  Negative   \n",
       "6544         712  اسئلة كلها تعجيزية وظاهر الي كان منشط مجهز روح...  Negative   \n",
       "6545        4493                         حاجة الي تفرح الي سيف مكشخ    Neutre   \n",
       "6546         444  تونس واله سأذهب لانتخاب اول مرة حياتي انا غربة...  Positive   \n",
       "\n",
       "       category      aspect  \n",
       "0     PRESIDENT    ['رئيس']  \n",
       "1       GENERAL          []  \n",
       "2     PRESIDENT    ['رئيس']  \n",
       "3       GENERAL          []  \n",
       "4       PROGRAM  ['برنامج']  \n",
       "...         ...         ...  \n",
       "6542    GENERAL          []  \n",
       "6543     DEBATE  ['مناظره']  \n",
       "6544   DIALOGUE    ['حوار']  \n",
       "6545    GENERAL          []  \n",
       "6546  PRESIDENT    ['رئيس']  \n",
       "\n",
       "[6547 rows x 5 columns]"
      ]
     },
     "execution_count": 4,
     "metadata": {},
     "output_type": "execute_result"
    }
   ],
   "source": [
    "d1 = pd.read_csv('train1.csv', encoding='utf-8')\n",
    "\n",
    "d1"
   ]
  },
  {
   "cell_type": "code",
   "execution_count": 7,
   "metadata": {},
   "outputs": [
    {
     "ename": "NameError",
     "evalue": "name 'd1' is not defined",
     "output_type": "error",
     "traceback": [
      "\u001b[1;31m---------------------------------------------------------------------------\u001b[0m",
      "\u001b[1;31mNameError\u001b[0m                                 Traceback (most recent call last)",
      "\u001b[1;32m~\\AppData\\Local\\Temp/ipykernel_9808/4254382256.py\u001b[0m in \u001b[0;36m<module>\u001b[1;34m\u001b[0m\n\u001b[1;32m----> 1\u001b[1;33m \u001b[0md1\u001b[0m\u001b[1;33m.\u001b[0m\u001b[0mpolarity\u001b[0m\u001b[1;33m.\u001b[0m\u001b[0mvalue_counts\u001b[0m\u001b[1;33m(\u001b[0m\u001b[1;33m)\u001b[0m\u001b[1;33m.\u001b[0m\u001b[0mplot\u001b[0m\u001b[1;33m.\u001b[0m\u001b[0mbar\u001b[0m\u001b[1;33m(\u001b[0m\u001b[1;33m)\u001b[0m\u001b[1;33m\u001b[0m\u001b[1;33m\u001b[0m\u001b[0m\n\u001b[0m\u001b[0;32m      2\u001b[0m \u001b[0md1\u001b[0m\u001b[1;33m.\u001b[0m\u001b[0mpolarity\u001b[0m\u001b[1;33m.\u001b[0m\u001b[0mvalue_counts\u001b[0m\u001b[1;33m(\u001b[0m\u001b[1;33m)\u001b[0m\u001b[1;33m\u001b[0m\u001b[1;33m\u001b[0m\u001b[0m\n",
      "\u001b[1;31mNameError\u001b[0m: name 'd1' is not defined"
     ]
    }
   ],
   "source": [
    "d1.polarity.value_counts().plot.bar()\n",
    "d1.polarity.value_counts()"
   ]
  },
  {
   "cell_type": "code",
   "execution_count": 6,
   "metadata": {},
   "outputs": [
    {
     "data": {
      "text/plain": [
       "Neutre      929\n",
       "Positive    507\n",
       "Negative    201\n",
       "Name: polarity, dtype: int64"
      ]
     },
     "execution_count": 6,
     "metadata": {},
     "output_type": "execute_result"
    },
    {
     "data": {
      "image/png": "[encoded data removed]",
      "text/plain": [
       "<Figure size 432x288 with 1 Axes>"
      ]
     },
     "metadata": {
      "needs_background": "light"
     },
     "output_type": "display_data"
    }
   ],
   "source": [
    "t1 = pd.read_csv('test1.csv', encoding='utf-8')\n",
    "\n",
    "t1.polarity.value_counts().plot.bar()\n",
    "t1.polarity.value_counts()"
   ]
  },
  {
   "cell_type": "code",
   "execution_count": null,
   "metadata": {},
   "outputs": [],
   "source": []
  },
  {
   "cell_type": "code",
   "execution_count": null,
   "metadata": {},
   "outputs": [],
   "source": []
  },
  {
   "cell_type": "code",
   "execution_count": 4,
   "metadata": {},
   "outputs": [
    {
     "data": {
      "text/html": [
       "<div>\n",
       "<style scoped>\n",
       "    .dataframe tbody tr th:only-of-type {\n",
       "        vertical-align: middle;\n",
       "    }\n",
       "\n",
       "    .dataframe tbody tr th {\n",
       "        vertical-align: top;\n",
       "    }\n",
       "\n",
       "    .dataframe thead th {\n",
       "        text-align: right;\n",
       "    }\n",
       "</style>\n",
       "<table border=\"1\" class=\"dataframe\">\n",
       "  <thead>\n",
       "    <tr style=\"text-align: right;\">\n",
       "      <th></th>\n",
       "      <th>sentence</th>\n",
       "      <th>category</th>\n",
       "      <th>polarity</th>\n",
       "      <th>aspect</th>\n",
       "    </tr>\n",
       "  </thead>\n",
       "  <tbody>\n",
       "    <tr>\n",
       "      <th>0</th>\n",
       "      <td>نموت علي اكل تونسي محرحر</td>\n",
       "      <td>FOOD#QUALITY</td>\n",
       "      <td>Positive</td>\n",
       "      <td>اكل</td>\n",
       "    </tr>\n",
       "    <tr>\n",
       "      <th>1</th>\n",
       "      <td>شعب هريسه اثبت وجود</td>\n",
       "      <td>GENERAL</td>\n",
       "      <td>Positive</td>\n",
       "      <td>شعب,اكل</td>\n",
       "    </tr>\n",
       "    <tr>\n",
       "      <th>2</th>\n",
       "      <td>انا فلسطيني بفتخر انو تونس عرب مثلي تحيه لبلد ...</td>\n",
       "      <td>GENERAL</td>\n",
       "      <td>Positive</td>\n",
       "      <td>NaN</td>\n",
       "    </tr>\n",
       "    <tr>\n",
       "      <th>3</th>\n",
       "      <td>والله اطيب واذكي شعب ومضياف وشعب راقي تونس بوا...</td>\n",
       "      <td>GENERAL</td>\n",
       "      <td>Positive</td>\n",
       "      <td>شعب</td>\n",
       "    </tr>\n",
       "    <tr>\n",
       "      <th>4</th>\n",
       "      <td>والله هذا شاب تونسي رجال  وكريم وطيب و ابن ناس...</td>\n",
       "      <td>GENERAL</td>\n",
       "      <td>Positive</td>\n",
       "      <td>شاف</td>\n",
       "    </tr>\n",
       "    <tr>\n",
       "      <th>...</th>\n",
       "      <td>...</td>\n",
       "      <td>...</td>\n",
       "      <td>...</td>\n",
       "      <td>...</td>\n",
       "    </tr>\n",
       "    <tr>\n",
       "      <th>4224</th>\n",
       "      <td>مضر</td>\n",
       "      <td>RESTAURANT#cleanliness</td>\n",
       "      <td>Negative</td>\n",
       "      <td>اكل</td>\n",
       "    </tr>\n",
       "    <tr>\n",
       "      <th>4225</th>\n",
       "      <td>ياسر مسخ</td>\n",
       "      <td>RESTAURANT#cleanliness</td>\n",
       "      <td>Negative</td>\n",
       "      <td>مطعم</td>\n",
       "    </tr>\n",
       "    <tr>\n",
       "      <th>4226</th>\n",
       "      <td>ملا تبلبيز</td>\n",
       "      <td>RESTAURANT#cleanliness</td>\n",
       "      <td>Negative</td>\n",
       "      <td>اكل</td>\n",
       "    </tr>\n",
       "    <tr>\n",
       "      <th>4227</th>\n",
       "      <td>بنينه برشا و نظيفه انظف من محل عصريه نظيفه من ...</td>\n",
       "      <td>FOOD#QUALITY</td>\n",
       "      <td>Positive</td>\n",
       "      <td>اكل,نظافة,عنوان,نظافة,نظافة</td>\n",
       "    </tr>\n",
       "    <tr>\n",
       "      <th>4228</th>\n",
       "      <td>بنينه برشا و نظيفه انظف من محل عصريه نظيفه من ...</td>\n",
       "      <td>RESTAURANT#cleanliness</td>\n",
       "      <td>Positive</td>\n",
       "      <td>اكل,نظافة,عنوان,نظافة,نظافة</td>\n",
       "    </tr>\n",
       "  </tbody>\n",
       "</table>\n",
       "<p>4229 rows × 4 columns</p>\n",
       "</div>"
      ],
      "text/plain": [
       "                                               sentence  \\\n",
       "0                             نموت علي اكل تونسي محرحر    \n",
       "1                                  شعب هريسه اثبت وجود    \n",
       "2     انا فلسطيني بفتخر انو تونس عرب مثلي تحيه لبلد ...   \n",
       "3     والله اطيب واذكي شعب ومضياف وشعب راقي تونس بوا...   \n",
       "4     والله هذا شاب تونسي رجال  وكريم وطيب و ابن ناس...   \n",
       "...                                                 ...   \n",
       "4224                                                مضر   \n",
       "4225                                           ياسر مسخ   \n",
       "4226                                         ملا تبلبيز   \n",
       "4227  بنينه برشا و نظيفه انظف من محل عصريه نظيفه من ...   \n",
       "4228  بنينه برشا و نظيفه انظف من محل عصريه نظيفه من ...   \n",
       "\n",
       "                    category  polarity                       aspect  \n",
       "0               FOOD#QUALITY  Positive                          اكل  \n",
       "1                    GENERAL  Positive                      شعب,اكل  \n",
       "2                    GENERAL  Positive                          NaN  \n",
       "3                    GENERAL  Positive                          شعب  \n",
       "4                    GENERAL  Positive                          شاف  \n",
       "...                      ...       ...                          ...  \n",
       "4224  RESTAURANT#cleanliness  Negative                          اكل  \n",
       "4225  RESTAURANT#cleanliness  Negative                         مطعم  \n",
       "4226  RESTAURANT#cleanliness  Negative                          اكل  \n",
       "4227            FOOD#QUALITY  Positive  اكل,نظافة,عنوان,نظافة,نظافة  \n",
       "4228  RESTAURANT#cleanliness  Positive  اكل,نظافة,عنوان,نظافة,نظافة  \n",
       "\n",
       "[4229 rows x 4 columns]"
      ]
     },
     "execution_count": 4,
     "metadata": {},
     "output_type": "execute_result"
    }
   ],
   "source": [
    "dat = pd.read_csv('C:/Users/DELL/Desktop/memoire de master/Dataset_memoire/restaurant1.csv',error_bad_lines=False , encoding='utf-8')\n",
    "\n",
    "dat"
   ]
  },
  {
   "cell_type": "code",
   "execution_count": 6,
   "metadata": {},
   "outputs": [
    {
     "data": {
      "text/html": [
       "<div>\n",
       "<style scoped>\n",
       "    .dataframe tbody tr th:only-of-type {\n",
       "        vertical-align: middle;\n",
       "    }\n",
       "\n",
       "    .dataframe tbody tr th {\n",
       "        vertical-align: top;\n",
       "    }\n",
       "\n",
       "    .dataframe thead th {\n",
       "        text-align: right;\n",
       "    }\n",
       "</style>\n",
       "<table border=\"1\" class=\"dataframe\">\n",
       "  <thead>\n",
       "    <tr style=\"text-align: right;\">\n",
       "      <th></th>\n",
       "      <th>sentence</th>\n",
       "      <th>polarity</th>\n",
       "      <th>category</th>\n",
       "      <th>aspect</th>\n",
       "    </tr>\n",
       "  </thead>\n",
       "  <tbody>\n",
       "    <tr>\n",
       "      <th>0</th>\n",
       "      <td>نموت علي اكل تونسي محرحر</td>\n",
       "      <td>Positive</td>\n",
       "      <td>FOOD#QUALITY</td>\n",
       "      <td>اكل</td>\n",
       "    </tr>\n",
       "    <tr>\n",
       "      <th>1</th>\n",
       "      <td>شعب هريسه اثبت وجود</td>\n",
       "      <td>Neutre</td>\n",
       "      <td>GENERAL</td>\n",
       "      <td>NaN</td>\n",
       "    </tr>\n",
       "    <tr>\n",
       "      <th>2</th>\n",
       "      <td>انا فلسطي بفتخر انو تونس عرب مثلي تحيه لبلد را...</td>\n",
       "      <td>Neutre</td>\n",
       "      <td>GENERAL</td>\n",
       "      <td>NaN</td>\n",
       "    </tr>\n",
       "    <tr>\n",
       "      <th>3</th>\n",
       "      <td>والله اطيب واذكي شعب ومضياف وشعب راقي تونس بوا...</td>\n",
       "      <td>Neutre</td>\n",
       "      <td>GENERAL</td>\n",
       "      <td>NaN</td>\n",
       "    </tr>\n",
       "    <tr>\n",
       "      <th>4</th>\n",
       "      <td>والله هذا شاب تونسي رجال وكريم وطيب و ابن ناس ...</td>\n",
       "      <td>Neutre</td>\n",
       "      <td>GENERAL</td>\n",
       "      <td>NaN</td>\n",
       "    </tr>\n",
       "    <tr>\n",
       "      <th>...</th>\n",
       "      <td>...</td>\n",
       "      <td>...</td>\n",
       "      <td>...</td>\n",
       "      <td>...</td>\n",
       "    </tr>\n",
       "    <tr>\n",
       "      <th>4224</th>\n",
       "      <td>مضر</td>\n",
       "      <td>Negative</td>\n",
       "      <td>RESTAURANT#cleanliness</td>\n",
       "      <td>نظافة</td>\n",
       "    </tr>\n",
       "    <tr>\n",
       "      <th>4225</th>\n",
       "      <td>ياسر مسخ</td>\n",
       "      <td>Negative</td>\n",
       "      <td>RESTAURANT#cleanliness</td>\n",
       "      <td>نظافة</td>\n",
       "    </tr>\n",
       "    <tr>\n",
       "      <th>4226</th>\n",
       "      <td>ملا تبلبيز</td>\n",
       "      <td>Negative</td>\n",
       "      <td>RESTAURANT#cleanliness</td>\n",
       "      <td>نظافة</td>\n",
       "    </tr>\n",
       "    <tr>\n",
       "      <th>4227</th>\n",
       "      <td>بنينه برشا و نظيفه انظف من محل عصريه نظيفه من ...</td>\n",
       "      <td>Positive</td>\n",
       "      <td>FOOD#QUALITY</td>\n",
       "      <td>اكل</td>\n",
       "    </tr>\n",
       "    <tr>\n",
       "      <th>4228</th>\n",
       "      <td>بنينه برشا و نظيفه انظف من محل عصريه نظيفه من ...</td>\n",
       "      <td>Positive</td>\n",
       "      <td>RESTAURANT#cleanliness</td>\n",
       "      <td>نظافة</td>\n",
       "    </tr>\n",
       "  </tbody>\n",
       "</table>\n",
       "<p>4229 rows × 4 columns</p>\n",
       "</div>"
      ],
      "text/plain": [
       "                                               sentence  polarity  \\\n",
       "0                              نموت علي اكل تونسي محرحر  Positive   \n",
       "1                                   شعب هريسه اثبت وجود    Neutre   \n",
       "2     انا فلسطي بفتخر انو تونس عرب مثلي تحيه لبلد را...    Neutre   \n",
       "3     والله اطيب واذكي شعب ومضياف وشعب راقي تونس بوا...    Neutre   \n",
       "4     والله هذا شاب تونسي رجال وكريم وطيب و ابن ناس ...    Neutre   \n",
       "...                                                 ...       ...   \n",
       "4224                                                مضر  Negative   \n",
       "4225                                           ياسر مسخ  Negative   \n",
       "4226                                         ملا تبلبيز  Negative   \n",
       "4227  بنينه برشا و نظيفه انظف من محل عصريه نظيفه من ...  Positive   \n",
       "4228  بنينه برشا و نظيفه انظف من محل عصريه نظيفه من ...  Positive   \n",
       "\n",
       "                    category aspect  \n",
       "0               FOOD#QUALITY    اكل  \n",
       "1                    GENERAL    NaN  \n",
       "2                    GENERAL    NaN  \n",
       "3                    GENERAL    NaN  \n",
       "4                    GENERAL    NaN  \n",
       "...                      ...    ...  \n",
       "4224  RESTAURANT#cleanliness  نظافة  \n",
       "4225  RESTAURANT#cleanliness  نظافة  \n",
       "4226  RESTAURANT#cleanliness  نظافة  \n",
       "4227            FOOD#QUALITY    اكل  \n",
       "4228  RESTAURANT#cleanliness  نظافة  \n",
       "\n",
       "[4229 rows x 4 columns]"
      ]
     },
     "execution_count": 6,
     "metadata": {},
     "output_type": "execute_result"
    }
   ],
   "source": [
    "dat.loc[dat.category == 'GENERAL', 'polarity'] = \"Neutre\"\n",
    "\n",
    "dat"
   ]
  },
  {
   "cell_type": "code",
   "execution_count": 9,
   "metadata": {},
   "outputs": [
    {
     "data": {
      "text/html": [
       "<div>\n",
       "<style scoped>\n",
       "    .dataframe tbody tr th:only-of-type {\n",
       "        vertical-align: middle;\n",
       "    }\n",
       "\n",
       "    .dataframe tbody tr th {\n",
       "        vertical-align: top;\n",
       "    }\n",
       "\n",
       "    .dataframe thead th {\n",
       "        text-align: right;\n",
       "    }\n",
       "</style>\n",
       "<table border=\"1\" class=\"dataframe\">\n",
       "  <thead>\n",
       "    <tr style=\"text-align: right;\">\n",
       "      <th></th>\n",
       "      <th>sentence</th>\n",
       "      <th>polarity</th>\n",
       "      <th>category</th>\n",
       "      <th>aspect</th>\n",
       "    </tr>\n",
       "  </thead>\n",
       "  <tbody>\n",
       "    <tr>\n",
       "      <th>712</th>\n",
       "      <td>اكثر حاجه عجبت فيه هي نظافه ما شاء الله</td>\n",
       "      <td>Positive</td>\n",
       "      <td>RESTAURANT#cleanliness</td>\n",
       "      <td>نظافة</td>\n",
       "    </tr>\n",
       "    <tr>\n",
       "      <th>725</th>\n",
       "      <td>انا نساند لعباد تبتكر ماكله واحد يزو بلاش صحن ...</td>\n",
       "      <td>Positive</td>\n",
       "      <td>RESTAURANT#cleanliness</td>\n",
       "      <td>نظافة</td>\n",
       "    </tr>\n",
       "    <tr>\n",
       "      <th>745</th>\n",
       "      <td>الله يبارك خدمه باهيه الله يعونك خويا بصح صوت ...</td>\n",
       "      <td>Positive</td>\n",
       "      <td>RESTAURANT#cleanliness</td>\n",
       "      <td>نظافة</td>\n",
       "    </tr>\n",
       "    <tr>\n",
       "      <th>811</th>\n",
       "      <td>ربي يباركلك نظافه و بنه ربي يعين رجال</td>\n",
       "      <td>Positive</td>\n",
       "      <td>RESTAURANT#cleanliness</td>\n",
       "      <td>نظافة</td>\n",
       "    </tr>\n",
       "    <tr>\n",
       "      <th>939</th>\n",
       "      <td>نظافه و يبان بنين عسل</td>\n",
       "      <td>Positive</td>\n",
       "      <td>RESTAURANT#cleanliness</td>\n",
       "      <td>نظافة</td>\n",
       "    </tr>\n",
       "    <tr>\n",
       "      <th>...</th>\n",
       "      <td>...</td>\n",
       "      <td>...</td>\n",
       "      <td>...</td>\n",
       "      <td>...</td>\n",
       "    </tr>\n",
       "    <tr>\n",
       "      <th>4043</th>\n",
       "      <td>قمه في تحيل علي حريف 30 د جرد سندويش ملبز في ف...</td>\n",
       "      <td>Positive</td>\n",
       "      <td>RESTAURANT#cleanliness</td>\n",
       "      <td>نظافة</td>\n",
       "    </tr>\n",
       "    <tr>\n",
       "      <th>4136</th>\n",
       "      <td>معنا تهتمو جبنه اما نظافه لا كيفاه الي يقطع عل...</td>\n",
       "      <td>Positive</td>\n",
       "      <td>RESTAURANT#cleanliness</td>\n",
       "      <td>نظافة</td>\n",
       "    </tr>\n",
       "    <tr>\n",
       "      <th>4207</th>\n",
       "      <td>انا عجبتي مشاء الله كل شي نظيف واستعمالك قفاز ...</td>\n",
       "      <td>Positive</td>\n",
       "      <td>RESTAURANT#cleanliness</td>\n",
       "      <td>نظافة</td>\n",
       "    </tr>\n",
       "    <tr>\n",
       "      <th>4208</th>\n",
       "      <td>يعطي صحه تجديد حلو ومزي وافكار حلوه فقط لو ممك...</td>\n",
       "      <td>Positive</td>\n",
       "      <td>RESTAURANT#cleanliness</td>\n",
       "      <td>نظافة</td>\n",
       "    </tr>\n",
       "    <tr>\n",
       "      <th>4228</th>\n",
       "      <td>بنينه برشا و نظيفه انظف من محل عصريه نظيفه من ...</td>\n",
       "      <td>Positive</td>\n",
       "      <td>RESTAURANT#cleanliness</td>\n",
       "      <td>نظافة</td>\n",
       "    </tr>\n",
       "  </tbody>\n",
       "</table>\n",
       "<p>101 rows × 4 columns</p>\n",
       "</div>"
      ],
      "text/plain": [
       "                                               sentence  polarity  \\\n",
       "712             اكثر حاجه عجبت فيه هي نظافه ما شاء الله  Positive   \n",
       "725   انا نساند لعباد تبتكر ماكله واحد يزو بلاش صحن ...  Positive   \n",
       "745   الله يبارك خدمه باهيه الله يعونك خويا بصح صوت ...  Positive   \n",
       "811               ربي يباركلك نظافه و بنه ربي يعين رجال  Positive   \n",
       "939                               نظافه و يبان بنين عسل  Positive   \n",
       "...                                                 ...       ...   \n",
       "4043  قمه في تحيل علي حريف 30 د جرد سندويش ملبز في ف...  Positive   \n",
       "4136  معنا تهتمو جبنه اما نظافه لا كيفاه الي يقطع عل...  Positive   \n",
       "4207  انا عجبتي مشاء الله كل شي نظيف واستعمالك قفاز ...  Positive   \n",
       "4208  يعطي صحه تجديد حلو ومزي وافكار حلوه فقط لو ممك...  Positive   \n",
       "4228  بنينه برشا و نظيفه انظف من محل عصريه نظيفه من ...  Positive   \n",
       "\n",
       "                    category aspect  \n",
       "712   RESTAURANT#cleanliness  نظافة  \n",
       "725   RESTAURANT#cleanliness  نظافة  \n",
       "745   RESTAURANT#cleanliness  نظافة  \n",
       "811   RESTAURANT#cleanliness  نظافة  \n",
       "939   RESTAURANT#cleanliness  نظافة  \n",
       "...                      ...    ...  \n",
       "4043  RESTAURANT#cleanliness  نظافة  \n",
       "4136  RESTAURANT#cleanliness  نظافة  \n",
       "4207  RESTAURANT#cleanliness  نظافة  \n",
       "4208  RESTAURANT#cleanliness  نظافة  \n",
       "4228  RESTAURANT#cleanliness  نظافة  \n",
       "\n",
       "[101 rows x 4 columns]"
      ]
     },
     "execution_count": 9,
     "metadata": {},
     "output_type": "execute_result"
    }
   ],
   "source": [
    "X= dat[(dat.category == 'RESTAURANT#cleanliness')&(dat.polarity== 'Positive')]\n",
    "X\n"
   ]
  },
  {
   "cell_type": "code",
   "execution_count": 10,
   "metadata": {},
   "outputs": [],
   "source": [
    " \n",
    "# Keeping only the neccessary columns\n",
    "data = dat[['sentence','polarity']]"
   ]
  },
  {
   "cell_type": "code",
   "execution_count": null,
   "metadata": {},
   "outputs": [],
   "source": []
  },
  {
   "cell_type": "code",
   "execution_count": 11,
   "metadata": {
    "_uuid": "f6a102c71c8e281450f7e73a5678cc9d0bb99e99"
   },
   "outputs": [
    {
     "data": {
      "text/html": [
       "<div>\n",
       "<style scoped>\n",
       "    .dataframe tbody tr th:only-of-type {\n",
       "        vertical-align: middle;\n",
       "    }\n",
       "\n",
       "    .dataframe tbody tr th {\n",
       "        vertical-align: top;\n",
       "    }\n",
       "\n",
       "    .dataframe thead th {\n",
       "        text-align: right;\n",
       "    }\n",
       "</style>\n",
       "<table border=\"1\" class=\"dataframe\">\n",
       "  <thead>\n",
       "    <tr style=\"text-align: right;\">\n",
       "      <th></th>\n",
       "      <th>sentence</th>\n",
       "      <th>polarity</th>\n",
       "    </tr>\n",
       "  </thead>\n",
       "  <tbody>\n",
       "    <tr>\n",
       "      <th>0</th>\n",
       "      <td>نموت علي اكل تونسي محرحر</td>\n",
       "      <td>Positive</td>\n",
       "    </tr>\n",
       "    <tr>\n",
       "      <th>1</th>\n",
       "      <td>شعب هريسه اثبت وجود</td>\n",
       "      <td>Neutre</td>\n",
       "    </tr>\n",
       "    <tr>\n",
       "      <th>2</th>\n",
       "      <td>انا فلسطي بفتخر انو تونس عرب مثلي تحيه لبلد را...</td>\n",
       "      <td>Neutre</td>\n",
       "    </tr>\n",
       "    <tr>\n",
       "      <th>3</th>\n",
       "      <td>والله اطيب واذكي شعب ومضياف وشعب راقي تونس بوا...</td>\n",
       "      <td>Neutre</td>\n",
       "    </tr>\n",
       "    <tr>\n",
       "      <th>4</th>\n",
       "      <td>والله هذا شاب تونسي رجال وكريم وطيب و ابن ناس ...</td>\n",
       "      <td>Neutre</td>\n",
       "    </tr>\n",
       "  </tbody>\n",
       "</table>\n",
       "</div>"
      ],
      "text/plain": [
       "                                            sentence  polarity\n",
       "0                           نموت علي اكل تونسي محرحر  Positive\n",
       "1                                شعب هريسه اثبت وجود    Neutre\n",
       "2  انا فلسطي بفتخر انو تونس عرب مثلي تحيه لبلد را...    Neutre\n",
       "3  والله اطيب واذكي شعب ومضياف وشعب راقي تونس بوا...    Neutre\n",
       "4  والله هذا شاب تونسي رجال وكريم وطيب و ابن ناس ...    Neutre"
      ]
     },
     "execution_count": 11,
     "metadata": {},
     "output_type": "execute_result"
    }
   ],
   "source": [
    "data.head()"
   ]
  },
  {
   "cell_type": "code",
   "execution_count": null,
   "metadata": {},
   "outputs": [],
   "source": []
  },
  {
   "cell_type": "code",
   "execution_count": 12,
   "metadata": {},
   "outputs": [
    {
     "data": {
      "text/plain": [
       "Neutre      1634\n",
       "Positive    1521\n",
       "Negative    1074\n",
       "Name: polarity, dtype: int64"
      ]
     },
     "execution_count": 12,
     "metadata": {},
     "output_type": "execute_result"
    },
    {
     "data": {
      "image/png": "[encoded data removed]",
      "text/plain": [
       "<Figure size 432x288 with 1 Axes>"
      ]
     },
     "metadata": {
      "needs_background": "light"
     },
     "output_type": "display_data"
    }
   ],
   "source": [
    "dat.polarity.value_counts().plot.bar()\n",
    "dat.polarity.value_counts()"
   ]
  },
  {
   "cell_type": "code",
   "execution_count": 13,
   "metadata": {},
   "outputs": [
    {
     "name": "stdout",
     "output_type": "stream",
     "text": [
      "3042\n",
      "2148\n",
      "3268\n"
     ]
    },
    {
     "data": {
      "text/html": [
       "<div>\n",
       "<style scoped>\n",
       "    .dataframe tbody tr th:only-of-type {\n",
       "        vertical-align: middle;\n",
       "    }\n",
       "\n",
       "    .dataframe tbody tr th {\n",
       "        vertical-align: top;\n",
       "    }\n",
       "\n",
       "    .dataframe thead th {\n",
       "        text-align: right;\n",
       "    }\n",
       "</style>\n",
       "<table border=\"1\" class=\"dataframe\">\n",
       "  <thead>\n",
       "    <tr style=\"text-align: right;\">\n",
       "      <th></th>\n",
       "      <th>sentence</th>\n",
       "      <th>polarity</th>\n",
       "    </tr>\n",
       "  </thead>\n",
       "  <tbody>\n",
       "    <tr>\n",
       "      <th>0</th>\n",
       "      <td>نموت علي اكل تونسي محرحر</td>\n",
       "      <td>Positive</td>\n",
       "    </tr>\n",
       "    <tr>\n",
       "      <th>1</th>\n",
       "      <td>شعب هريسه اثبت وجود</td>\n",
       "      <td>Neutre</td>\n",
       "    </tr>\n",
       "    <tr>\n",
       "      <th>2</th>\n",
       "      <td>انا فلسطي بفتخر انو تونس عرب مثلي تحيه لبلد را...</td>\n",
       "      <td>Neutre</td>\n",
       "    </tr>\n",
       "    <tr>\n",
       "      <th>3</th>\n",
       "      <td>والله اطيب واذكي شعب ومضياف وشعب راقي تونس بوا...</td>\n",
       "      <td>Neutre</td>\n",
       "    </tr>\n",
       "    <tr>\n",
       "      <th>4</th>\n",
       "      <td>والله هذا شاب تونسي رجال وكريم وطيب و ابن ناس ...</td>\n",
       "      <td>Neutre</td>\n",
       "    </tr>\n",
       "  </tbody>\n",
       "</table>\n",
       "</div>"
      ],
      "text/plain": [
       "                                            sentence  polarity\n",
       "0                           نموت علي اكل تونسي محرحر  Positive\n",
       "1                                شعب هريسه اثبت وجود    Neutre\n",
       "2  انا فلسطي بفتخر انو تونس عرب مثلي تحيه لبلد را...    Neutre\n",
       "3  والله اطيب واذكي شعب ومضياف وشعب راقي تونس بوا...    Neutre\n",
       "4  والله هذا شاب تونسي رجال وكريم وطيب و ابن ناس ...    Neutre"
      ]
     },
     "execution_count": 13,
     "metadata": {},
     "output_type": "execute_result"
    }
   ],
   "source": [
    "\n",
    "print(data[ data['polarity'] == 'Positive'].size)\n",
    "print(data[ data['polarity'] == 'Negative'].size)\n",
    "print(data[ data['polarity'] == 'Neutre'].size)\n",
    "\n",
    "for idx,row in data.iterrows():\n",
    "    row[0] = row[0].replace('rt','')\n",
    "data.head()"
   ]
  },
  {
   "cell_type": "code",
   "execution_count": 14,
   "metadata": {},
   "outputs": [
    {
     "data": {
      "text/plain": [
       "array([[   0,    0,    0,    0,    0,    0,    0,    0,    0,    0,    0,\n",
       "           0,    0,    0,    0,    0,    0,    0,    0,    0,    0,    0,\n",
       "           0,    0,    0,    0,    0,    0,    0,    0,    0,    0,    0,\n",
       "           0,    0,    0,    0,    0,    0,    0,    0,    0,    0,    0,\n",
       "           0,    0,    0,    0,    0,    0,    0,    0,    0,    0,    0,\n",
       "           0,    0,    0,    0,    0,    0,    0,    0,    0,    0,    0,\n",
       "           0,    0,    0,    0,    0,    0,    0,    0,    0,    0,    0,\n",
       "           0,    0,    0,    0,    0,    0,    0,    0,    0,    0,    0,\n",
       "           0,    0,    0,    0,    0,    0,    0,    0,    0,    0,    0,\n",
       "           0,    0,    0,    0,    0,    0,    0,    0,    0,    0,    0,\n",
       "           0,    0,    0,    0,    0,    0,    0,    0,    0,    0,    0,\n",
       "           0,    0,    0,    0,    0,    0,    0,    0,    0,    0,    0,\n",
       "           0,    0,    0,    0,    0,    0,    0,    0,    0,    0,    0,\n",
       "           0,    0,    0,    0,    0,    0,    0,    0,    0,    0,    0,\n",
       "           0,    0,    0,    0,    0,    0,    0,    0,    0,    0,    0,\n",
       "           0,    0,    0,    0,    0,    0,    0,    0,    0,    0,    0,\n",
       "           0,    0,    0,    0,    0,    0,    0,    0,    0,    0,    0,\n",
       "           0,    0,    0,    0,    0,    0,    0,    0,    0,    0,    0,\n",
       "           0,    0,    0,    0,    0,    0,    0,  172,    6,    9,   13,\n",
       "        1551],\n",
       "       [   0,    0,    0,    0,    0,    0,    0,    0,    0,    0,    0,\n",
       "           0,    0,    0,    0,    0,    0,    0,    0,    0,    0,    0,\n",
       "           0,    0,    0,    0,    0,    0,    0,    0,    0,    0,    0,\n",
       "           0,    0,    0,    0,    0,    0,    0,    0,    0,    0,    0,\n",
       "           0,    0,    0,    0,    0,    0,    0,    0,    0,    0,    0,\n",
       "           0,    0,    0,    0,    0,    0,    0,    0,    0,    0,    0,\n",
       "           0,    0,    0,    0,    0,    0,    0,    0,    0,    0,    0,\n",
       "           0,    0,    0,    0,    0,    0,    0,    0,    0,    0,    0,\n",
       "           0,    0,    0,    0,    0,    0,    0,    0,    0,    0,    0,\n",
       "           0,    0,    0,    0,    0,    0,    0,    0,    0,    0,    0,\n",
       "           0,    0,    0,    0,    0,    0,    0,    0,    0,    0,    0,\n",
       "           0,    0,    0,    0,    0,    0,    0,    0,    0,    0,    0,\n",
       "           0,    0,    0,    0,    0,    0,    0,    0,    0,    0,    0,\n",
       "           0,    0,    0,    0,    0,    0,    0,    0,    0,    0,    0,\n",
       "           0,    0,    0,    0,    0,    0,    0,    0,    0,    0,    0,\n",
       "           0,    0,    0,    0,    0,    0,    0,    0,    0,    0,    0,\n",
       "           0,    0,    0,    0,    0,    0,    0,    0,    0,    0,    0,\n",
       "           0,    0,    0,    0,    0,    0,    0,    0,    0,    0,    0,\n",
       "           0,    0,    0,    0,    0,    0,    0,    0,   34,   41, 1959,\n",
       "        1285]])"
      ]
     },
     "execution_count": 14,
     "metadata": {},
     "output_type": "execute_result"
    }
   ],
   "source": [
    "\n",
    "max_fatures = 2000\n",
    "tokenizer = Tokenizer(num_words=max_fatures, split=' ')\n",
    "a=tokenizer.fit_on_texts(dat['sentence'].values)\n",
    "X = tokenizer.texts_to_sequences(dat['sentence'].values)\n",
    "X = pad_sequences(X)\n",
    "X[:2]"
   ]
  },
  {
   "cell_type": "code",
   "execution_count": 41,
   "metadata": {},
   "outputs": [],
   "source": [
    "# saving sentiments encoder\n",
    "import pickle\n",
    "with open('tokenizer1.pickle', 'wb') as handle:\n",
    "    pickle.dump(dat['sentence'], handle, protocol=pickle.HIGHEST_PROTOCOL)"
   ]
  },
  {
   "cell_type": "code",
   "execution_count": 15,
   "metadata": {},
   "outputs": [
    {
     "name": "stdout",
     "output_type": "stream",
     "text": [
      "Model: \"sequential\"\n",
      "_________________________________________________________________\n",
      "Layer (type)                 Output Shape              Param #   \n",
      "=================================================================\n",
      "embedding (Embedding)        (None, 210, 128)          256000    \n",
      "_________________________________________________________________\n",
      "spatial_dropout1d (SpatialDr (None, 210, 128)          0         \n",
      "_________________________________________________________________\n",
      "lstm (LSTM)                  (None, 196)               254800    \n",
      "_________________________________________________________________\n",
      "dense (Dense)                (None, 3)                 591       \n",
      "=================================================================\n",
      "Total params: 511,391\n",
      "Trainable params: 511,391\n",
      "Non-trainable params: 0\n",
      "_________________________________________________________________\n",
      "None\n"
     ]
    }
   ],
   "source": [
    "embed_dim = 128\n",
    "lstm_out = 196\n",
    "\n",
    "model = Sequential()\n",
    "model.add(Embedding(max_fatures, embed_dim,input_length = X.shape[1]))\n",
    "model.add(SpatialDropout1D(0.4))\n",
    "model.add(LSTM(lstm_out, dropout=0.2, recurrent_dropout=0.2))\n",
    "model.add(Dense(3,activation='softmax'))\n",
    "model.compile(loss = 'categorical_crossentropy', optimizer='adam',metrics = ['accuracy'])\n",
    "print(model.summary())"
   ]
  },
  {
   "cell_type": "code",
   "execution_count": 16,
   "metadata": {},
   "outputs": [
    {
     "name": "stdout",
     "output_type": "stream",
     "text": [
      "(3383, 210) (3383, 3)\n",
      "(846, 210) (846, 3)\n"
     ]
    }
   ],
   "source": [
    "Y = pd.get_dummies(dat['polarity']).values\n",
    "X_train, X_test, Y_train, Y_test = train_test_split(X,Y, test_size = 0.20, random_state = 42)\n",
    "\n",
    "\n",
    "print(X_train.shape,Y_train.shape)\n",
    "print(X_test.shape,Y_test.shape)"
   ]
  },
  {
   "cell_type": "code",
   "execution_count": 17,
   "metadata": {},
   "outputs": [
    {
     "name": "stdout",
     "output_type": "stream",
     "text": [
      "(3383, 210) (3383, 3)\n",
      "(846, 210) (846, 3)\n"
     ]
    }
   ],
   "source": [
    "Y = pd.get_dummies(dat['polarity']).values\n",
    "X_train, X_test, Y_train, Y_test = train_test_split(X,Y, test_size = 0.20, random_state = 42)\n",
    "\n",
    "\n",
    "print(X_train.shape,Y_train.shape)\n",
    "print(X_test.shape,Y_test.shape)"
   ]
  },
  {
   "cell_type": "code",
   "execution_count": 18,
   "metadata": {},
   "outputs": [
    {
     "name": "stdout",
     "output_type": "stream",
     "text": [
      "Epoch 1/10\n",
      "27/27 [==============================] - 299s 11s/step - loss: 1.0738 - accuracy: 0.4357\n",
      "Epoch 2/10\n",
      "27/27 [==============================] - 335s 12s/step - loss: 0.9450 - accuracy: 0.5412\n",
      "Epoch 3/10\n",
      "27/27 [==============================] - 295s 11s/step - loss: 0.7626 - accuracy: 0.6852\n",
      "Epoch 4/10\n",
      "27/27 [==============================] - 282s 10s/step - loss: 0.6190 - accuracy: 0.7517\n",
      "Epoch 5/10\n",
      "27/27 [==============================] - 283s 10s/step - loss: 0.5112 - accuracy: 0.7904\n",
      "Epoch 6/10\n",
      "27/27 [==============================] - 348s 13s/step - loss: 0.4426 - accuracy: 0.8232\n",
      "Epoch 7/10\n",
      "27/27 [==============================] - 290s 11s/step - loss: 0.3923 - accuracy: 0.8537\n",
      "Epoch 8/10\n",
      "27/27 [==============================] - 275s 10s/step - loss: 0.3638 - accuracy: 0.8605\n",
      "Epoch 9/10\n",
      "27/27 [==============================] - 278s 10s/step - loss: 0.3334 - accuracy: 0.8702\n",
      "Epoch 10/10\n",
      "27/27 [==============================] - 274s 10s/step - loss: 0.2967 - accuracy: 0.8862\n"
     ]
    },
    {
     "data": {
      "text/plain": [
       "<tensorflow.python.keras.callbacks.History at 0x24e779bce48>"
      ]
     },
     "execution_count": 18,
     "metadata": {},
     "output_type": "execute_result"
    }
   ],
   "source": [
    "\n",
    "batch_size = 128\n",
    "model.fit(X_train, Y_train, epochs = 10, batch_size=batch_size, verbose = 1)"
   ]
  },
  {
   "cell_type": "code",
   "execution_count": 21,
   "metadata": {},
   "outputs": [
    {
     "name": "stdout",
     "output_type": "stream",
     "text": [
      "Accuracy of the model :  0.6205673758865248\n"
     ]
    },
    {
     "ename": "ValueError",
     "evalue": "Target is multilabel-indicator but average='binary'. Please choose another average setting, one of [None, 'micro', 'macro', 'weighted', 'samples'].",
     "output_type": "error",
     "traceback": [
      "\u001b[1;31m---------------------------------------------------------------------------\u001b[0m",
      "\u001b[1;31mValueError\u001b[0m                                Traceback (most recent call last)",
      "\u001b[1;32m~\\AppData\\Local\\Temp/ipykernel_9808/3458235448.py\u001b[0m in \u001b[0;36m<module>\u001b[1;34m\u001b[0m\n\u001b[0;32m      3\u001b[0m \u001b[0my_pred\u001b[0m \u001b[1;33m=\u001b[0m \u001b[1;33m(\u001b[0m\u001b[0mprediction\u001b[0m \u001b[1;33m>\u001b[0m \u001b[1;36m0.5\u001b[0m\u001b[1;33m)\u001b[0m\u001b[1;33m\u001b[0m\u001b[1;33m\u001b[0m\u001b[0m\n\u001b[0;32m      4\u001b[0m \u001b[0mprint\u001b[0m\u001b[1;33m(\u001b[0m\u001b[1;34m\"Accuracy of the model : \"\u001b[0m\u001b[1;33m,\u001b[0m \u001b[0maccuracy_score\u001b[0m\u001b[1;33m(\u001b[0m\u001b[0my_pred\u001b[0m\u001b[1;33m,\u001b[0m \u001b[0mY_test\u001b[0m\u001b[1;33m)\u001b[0m\u001b[1;33m)\u001b[0m\u001b[1;33m\u001b[0m\u001b[1;33m\u001b[0m\u001b[0m\n\u001b[1;32m----> 5\u001b[1;33m \u001b[0mprint\u001b[0m\u001b[1;33m(\u001b[0m\u001b[1;34m'F1-score: '\u001b[0m\u001b[1;33m,\u001b[0m \u001b[0mf1_score\u001b[0m\u001b[1;33m(\u001b[0m\u001b[0my_pred\u001b[0m\u001b[1;33m,\u001b[0m \u001b[0mY_test\u001b[0m\u001b[1;33m)\u001b[0m\u001b[1;33m)\u001b[0m\u001b[1;33m\u001b[0m\u001b[1;33m\u001b[0m\u001b[0m\n\u001b[0m\u001b[0;32m      6\u001b[0m \u001b[0mprint\u001b[0m\u001b[1;33m(\u001b[0m\u001b[1;34m'Confusion matrix:'\u001b[0m\u001b[1;33m)\u001b[0m\u001b[1;33m\u001b[0m\u001b[1;33m\u001b[0m\u001b[0m\n\u001b[0;32m      7\u001b[0m \u001b[0mconfusion_matrix\u001b[0m\u001b[1;33m(\u001b[0m\u001b[0mY_test\u001b[0m\u001b[1;33m,\u001b[0m\u001b[0my_pred\u001b[0m\u001b[1;33m)\u001b[0m\u001b[1;33m\u001b[0m\u001b[1;33m\u001b[0m\u001b[0m\n",
      "\u001b[1;32m~\\anaconda3\\envs\\new_en\\lib\\site-packages\\sklearn\\utils\\validation.py\u001b[0m in \u001b[0;36minner_f\u001b[1;34m(*args, **kwargs)\u001b[0m\n\u001b[0;32m     61\u001b[0m             \u001b[0mextra_args\u001b[0m \u001b[1;33m=\u001b[0m \u001b[0mlen\u001b[0m\u001b[1;33m(\u001b[0m\u001b[0margs\u001b[0m\u001b[1;33m)\u001b[0m \u001b[1;33m-\u001b[0m \u001b[0mlen\u001b[0m\u001b[1;33m(\u001b[0m\u001b[0mall_args\u001b[0m\u001b[1;33m)\u001b[0m\u001b[1;33m\u001b[0m\u001b[1;33m\u001b[0m\u001b[0m\n\u001b[0;32m     62\u001b[0m             \u001b[1;32mif\u001b[0m \u001b[0mextra_args\u001b[0m \u001b[1;33m<=\u001b[0m \u001b[1;36m0\u001b[0m\u001b[1;33m:\u001b[0m\u001b[1;33m\u001b[0m\u001b[1;33m\u001b[0m\u001b[0m\n\u001b[1;32m---> 63\u001b[1;33m                 \u001b[1;32mreturn\u001b[0m \u001b[0mf\u001b[0m\u001b[1;33m(\u001b[0m\u001b[1;33m*\u001b[0m\u001b[0margs\u001b[0m\u001b[1;33m,\u001b[0m \u001b[1;33m**\u001b[0m\u001b[0mkwargs\u001b[0m\u001b[1;33m)\u001b[0m\u001b[1;33m\u001b[0m\u001b[1;33m\u001b[0m\u001b[0m\n\u001b[0m\u001b[0;32m     64\u001b[0m \u001b[1;33m\u001b[0m\u001b[0m\n\u001b[0;32m     65\u001b[0m             \u001b[1;31m# extra_args > 0\u001b[0m\u001b[1;33m\u001b[0m\u001b[1;33m\u001b[0m\u001b[1;33m\u001b[0m\u001b[0m\n",
      "\u001b[1;32m~\\anaconda3\\envs\\new_en\\lib\\site-packages\\sklearn\\metrics\\_classification.py\u001b[0m in \u001b[0;36mf1_score\u001b[1;34m(y_true, y_pred, labels, pos_label, average, sample_weight, zero_division)\u001b[0m\n\u001b[0;32m   1072\u001b[0m                        \u001b[0mpos_label\u001b[0m\u001b[1;33m=\u001b[0m\u001b[0mpos_label\u001b[0m\u001b[1;33m,\u001b[0m \u001b[0maverage\u001b[0m\u001b[1;33m=\u001b[0m\u001b[0maverage\u001b[0m\u001b[1;33m,\u001b[0m\u001b[1;33m\u001b[0m\u001b[1;33m\u001b[0m\u001b[0m\n\u001b[0;32m   1073\u001b[0m                        \u001b[0msample_weight\u001b[0m\u001b[1;33m=\u001b[0m\u001b[0msample_weight\u001b[0m\u001b[1;33m,\u001b[0m\u001b[1;33m\u001b[0m\u001b[1;33m\u001b[0m\u001b[0m\n\u001b[1;32m-> 1074\u001b[1;33m                        zero_division=zero_division)\n\u001b[0m\u001b[0;32m   1075\u001b[0m \u001b[1;33m\u001b[0m\u001b[0m\n\u001b[0;32m   1076\u001b[0m \u001b[1;33m\u001b[0m\u001b[0m\n",
      "\u001b[1;32m~\\anaconda3\\envs\\new_en\\lib\\site-packages\\sklearn\\utils\\validation.py\u001b[0m in \u001b[0;36minner_f\u001b[1;34m(*args, **kwargs)\u001b[0m\n\u001b[0;32m     61\u001b[0m             \u001b[0mextra_args\u001b[0m \u001b[1;33m=\u001b[0m \u001b[0mlen\u001b[0m\u001b[1;33m(\u001b[0m\u001b[0margs\u001b[0m\u001b[1;33m)\u001b[0m \u001b[1;33m-\u001b[0m \u001b[0mlen\u001b[0m\u001b[1;33m(\u001b[0m\u001b[0mall_args\u001b[0m\u001b[1;33m)\u001b[0m\u001b[1;33m\u001b[0m\u001b[1;33m\u001b[0m\u001b[0m\n\u001b[0;32m     62\u001b[0m             \u001b[1;32mif\u001b[0m \u001b[0mextra_args\u001b[0m \u001b[1;33m<=\u001b[0m \u001b[1;36m0\u001b[0m\u001b[1;33m:\u001b[0m\u001b[1;33m\u001b[0m\u001b[1;33m\u001b[0m\u001b[0m\n\u001b[1;32m---> 63\u001b[1;33m                 \u001b[1;32mreturn\u001b[0m \u001b[0mf\u001b[0m\u001b[1;33m(\u001b[0m\u001b[1;33m*\u001b[0m\u001b[0margs\u001b[0m\u001b[1;33m,\u001b[0m \u001b[1;33m**\u001b[0m\u001b[0mkwargs\u001b[0m\u001b[1;33m)\u001b[0m\u001b[1;33m\u001b[0m\u001b[1;33m\u001b[0m\u001b[0m\n\u001b[0m\u001b[0;32m     64\u001b[0m \u001b[1;33m\u001b[0m\u001b[0m\n\u001b[0;32m     65\u001b[0m             \u001b[1;31m# extra_args > 0\u001b[0m\u001b[1;33m\u001b[0m\u001b[1;33m\u001b[0m\u001b[1;33m\u001b[0m\u001b[0m\n",
      "\u001b[1;32m~\\anaconda3\\envs\\new_en\\lib\\site-packages\\sklearn\\metrics\\_classification.py\u001b[0m in \u001b[0;36mfbeta_score\u001b[1;34m(y_true, y_pred, beta, labels, pos_label, average, sample_weight, zero_division)\u001b[0m\n\u001b[0;32m   1200\u001b[0m                                                  \u001b[0mwarn_for\u001b[0m\u001b[1;33m=\u001b[0m\u001b[1;33m(\u001b[0m\u001b[1;34m'f-score'\u001b[0m\u001b[1;33m,\u001b[0m\u001b[1;33m)\u001b[0m\u001b[1;33m,\u001b[0m\u001b[1;33m\u001b[0m\u001b[1;33m\u001b[0m\u001b[0m\n\u001b[0;32m   1201\u001b[0m                                                  \u001b[0msample_weight\u001b[0m\u001b[1;33m=\u001b[0m\u001b[0msample_weight\u001b[0m\u001b[1;33m,\u001b[0m\u001b[1;33m\u001b[0m\u001b[1;33m\u001b[0m\u001b[0m\n\u001b[1;32m-> 1202\u001b[1;33m                                                  zero_division=zero_division)\n\u001b[0m\u001b[0;32m   1203\u001b[0m     \u001b[1;32mreturn\u001b[0m \u001b[0mf\u001b[0m\u001b[1;33m\u001b[0m\u001b[1;33m\u001b[0m\u001b[0m\n\u001b[0;32m   1204\u001b[0m \u001b[1;33m\u001b[0m\u001b[0m\n",
      "\u001b[1;32m~\\anaconda3\\envs\\new_en\\lib\\site-packages\\sklearn\\utils\\validation.py\u001b[0m in \u001b[0;36minner_f\u001b[1;34m(*args, **kwargs)\u001b[0m\n\u001b[0;32m     61\u001b[0m             \u001b[0mextra_args\u001b[0m \u001b[1;33m=\u001b[0m \u001b[0mlen\u001b[0m\u001b[1;33m(\u001b[0m\u001b[0margs\u001b[0m\u001b[1;33m)\u001b[0m \u001b[1;33m-\u001b[0m \u001b[0mlen\u001b[0m\u001b[1;33m(\u001b[0m\u001b[0mall_args\u001b[0m\u001b[1;33m)\u001b[0m\u001b[1;33m\u001b[0m\u001b[1;33m\u001b[0m\u001b[0m\n\u001b[0;32m     62\u001b[0m             \u001b[1;32mif\u001b[0m \u001b[0mextra_args\u001b[0m \u001b[1;33m<=\u001b[0m \u001b[1;36m0\u001b[0m\u001b[1;33m:\u001b[0m\u001b[1;33m\u001b[0m\u001b[1;33m\u001b[0m\u001b[0m\n\u001b[1;32m---> 63\u001b[1;33m                 \u001b[1;32mreturn\u001b[0m \u001b[0mf\u001b[0m\u001b[1;33m(\u001b[0m\u001b[1;33m*\u001b[0m\u001b[0margs\u001b[0m\u001b[1;33m,\u001b[0m \u001b[1;33m**\u001b[0m\u001b[0mkwargs\u001b[0m\u001b[1;33m)\u001b[0m\u001b[1;33m\u001b[0m\u001b[1;33m\u001b[0m\u001b[0m\n\u001b[0m\u001b[0;32m     64\u001b[0m \u001b[1;33m\u001b[0m\u001b[0m\n\u001b[0;32m     65\u001b[0m             \u001b[1;31m# extra_args > 0\u001b[0m\u001b[1;33m\u001b[0m\u001b[1;33m\u001b[0m\u001b[1;33m\u001b[0m\u001b[0m\n",
      "\u001b[1;32m~\\anaconda3\\envs\\new_en\\lib\\site-packages\\sklearn\\metrics\\_classification.py\u001b[0m in \u001b[0;36mprecision_recall_fscore_support\u001b[1;34m(y_true, y_pred, beta, labels, pos_label, average, warn_for, sample_weight, zero_division)\u001b[0m\n\u001b[0;32m   1463\u001b[0m         \u001b[1;32mraise\u001b[0m \u001b[0mValueError\u001b[0m\u001b[1;33m(\u001b[0m\u001b[1;34m\"beta should be >=0 in the F-beta score\"\u001b[0m\u001b[1;33m)\u001b[0m\u001b[1;33m\u001b[0m\u001b[1;33m\u001b[0m\u001b[0m\n\u001b[0;32m   1464\u001b[0m     labels = _check_set_wise_labels(y_true, y_pred, average, labels,\n\u001b[1;32m-> 1465\u001b[1;33m                                     pos_label)\n\u001b[0m\u001b[0;32m   1466\u001b[0m \u001b[1;33m\u001b[0m\u001b[0m\n\u001b[0;32m   1467\u001b[0m     \u001b[1;31m# Calculate tp_sum, pred_sum, true_sum ###\u001b[0m\u001b[1;33m\u001b[0m\u001b[1;33m\u001b[0m\u001b[1;33m\u001b[0m\u001b[0m\n",
      "\u001b[1;32m~\\anaconda3\\envs\\new_en\\lib\\site-packages\\sklearn\\metrics\\_classification.py\u001b[0m in \u001b[0;36m_check_set_wise_labels\u001b[1;34m(y_true, y_pred, average, labels, pos_label)\u001b[0m\n\u001b[0;32m   1294\u001b[0m             raise ValueError(\"Target is %s but average='binary'. Please \"\n\u001b[0;32m   1295\u001b[0m                              \u001b[1;34m\"choose another average setting, one of %r.\"\u001b[0m\u001b[1;33m\u001b[0m\u001b[1;33m\u001b[0m\u001b[0m\n\u001b[1;32m-> 1296\u001b[1;33m                              % (y_type, average_options))\n\u001b[0m\u001b[0;32m   1297\u001b[0m     \u001b[1;32melif\u001b[0m \u001b[0mpos_label\u001b[0m \u001b[1;32mnot\u001b[0m \u001b[1;32min\u001b[0m \u001b[1;33m(\u001b[0m\u001b[1;32mNone\u001b[0m\u001b[1;33m,\u001b[0m \u001b[1;36m1\u001b[0m\u001b[1;33m)\u001b[0m\u001b[1;33m:\u001b[0m\u001b[1;33m\u001b[0m\u001b[1;33m\u001b[0m\u001b[0m\n\u001b[0;32m   1298\u001b[0m         warnings.warn(\"Note that pos_label (set to %r) is ignored when \"\n",
      "\u001b[1;31mValueError\u001b[0m: Target is multilabel-indicator but average='binary'. Please choose another average setting, one of [None, 'micro', 'macro', 'weighted', 'samples']."
     ]
    }
   ],
   "source": [
    "from sklearn.metrics import accuracy_score,f1_score\n",
    "prediction = model.predict(X_test)\n",
    "y_pred = (prediction > 0.5)\n",
    "print(\"Accuracy of the model : \", accuracy_score(y_pred, Y_test))\n",
    "print('F1-score: ', f1_score(y_pred, Y_test))\n",
    "print('Confusion matrix:')\n",
    "confusion_matrix(Y_test,y_pred)"
   ]
  },
  {
   "cell_type": "code",
   "execution_count": 26,
   "metadata": {},
   "outputs": [
    {
     "name": "stdout",
     "output_type": "stream",
     "text": [
      "confusion matrix [[125  33  55]\n",
      " [ 43 245  59]\n",
      " [ 54  66 166]]\n",
      "              precision    recall  f1-score   support\n",
      "\n",
      "           0       0.56      0.59      0.57       213\n",
      "           1       0.71      0.71      0.71       347\n",
      "           2       0.59      0.58      0.59       286\n",
      "\n",
      "    accuracy                           0.63       846\n",
      "   macro avg       0.62      0.62      0.62       846\n",
      "weighted avg       0.63      0.63      0.63       846\n",
      "\n",
      "Accuracy of the model :  0.6335697399527187\n",
      "F1-score:  0.6335697399527187\n"
     ]
    }
   ],
   "source": [
    "Y_pred = model.predict_classes(X_test,batch_size = 128)\n",
    "df_test = pd.DataFrame({'true': Y_test.tolist(), 'pred':Y_pred})\n",
    "df_test['true'] = df_test['true'].apply(lambda x: np.argmax(x))\n",
    "print(\"confusion matrix\",confusion_matrix(df_test.true, df_test.pred))\n",
    "print(classification_report(df_test.true, df_test.pred))\n",
    "print(\"Accuracy of the model : \", accuracy_score(df_test.true, df_test.pred))\n",
    "print(\"F1-score: \", f1_score(df_test.true, df_test.pred, average='micro'))"
   ]
  },
  {
   "cell_type": "code",
   "execution_count": null,
   "metadata": {},
   "outputs": [
    {
     "name": "stdout",
     "output_type": "stream",
     "text": [
      "Epoch 1/20\n"
     ]
    }
   ],
   "source": [
    "\n",
    "batch_size = 128\n",
    "model.fit(X_train, Y_train, epochs =20 , batch_size=batch_size, verbose = 1)\n"
   ]
  },
  {
   "cell_type": "code",
   "execution_count": null,
   "metadata": {},
   "outputs": [],
   "source": []
  },
  {
   "cell_type": "code",
   "execution_count": 15,
   "metadata": {},
   "outputs": [],
   "source": [
    "model.save(\"sentiment_resto.h5\")"
   ]
  },
  {
   "cell_type": "code",
   "execution_count": 11,
   "metadata": {},
   "outputs": [
    {
     "name": "stdout",
     "output_type": "stream",
     "text": [
      "Epoch 1/10\n",
      "27/27 [==============================] - ETA: 0s - loss: 1.0721 - accuracy: 0.4233 \n",
      "Epoch 00001: loss improved from inf to 1.07214, saving model to sent.h5\n",
      "27/27 [==============================] - 445s 16s/step - loss: 1.0721 - accuracy: 0.4233\n",
      "Epoch 2/10\n",
      "27/27 [==============================] - ETA: 0s - loss: 0.9541 - accuracy: 0.5430 \n",
      "Epoch 00002: loss improved from 1.07214 to 0.95406, saving model to sent.h5\n",
      "27/27 [==============================] - 436s 16s/step - loss: 0.9541 - accuracy: 0.5430\n",
      "Epoch 3/10\n",
      "27/27 [==============================] - ETA: 0s - loss: 0.7559 - accuracy: 0.6884 \n",
      "Epoch 00003: loss improved from 0.95406 to 0.75594, saving model to sent.h5\n",
      "27/27 [==============================] - 394s 15s/step - loss: 0.7559 - accuracy: 0.6884\n",
      "Epoch 4/10\n",
      "27/27 [==============================] - ETA: 0s - loss: 0.6196 - accuracy: 0.7464 \n",
      "Epoch 00004: loss improved from 0.75594 to 0.61963, saving model to sent.h5\n",
      "27/27 [==============================] - 477s 18s/step - loss: 0.6196 - accuracy: 0.7464\n",
      "Epoch 5/10\n",
      "27/27 [==============================] - ETA: 0s - loss: 0.5229 - accuracy: 0.7981 \n",
      "Epoch 00005: loss improved from 0.61963 to 0.52295, saving model to sent.h5\n",
      "27/27 [==============================] - 472s 17s/step - loss: 0.5229 - accuracy: 0.7981\n",
      "Epoch 6/10\n",
      "27/27 [==============================] - ETA: 0s - loss: 0.4525 - accuracy: 0.8289 \n",
      "Epoch 00006: loss improved from 0.52295 to 0.45246, saving model to sent.h5\n",
      "27/27 [==============================] - 461s 17s/step - loss: 0.4525 - accuracy: 0.8289\n",
      "Epoch 7/10\n",
      "27/27 [==============================] - ETA: 0s - loss: 0.4167 - accuracy: 0.8380 \n",
      "Epoch 00007: loss improved from 0.45246 to 0.41674, saving model to sent.h5\n",
      "27/27 [==============================] - 420s 16s/step - loss: 0.4167 - accuracy: 0.8380\n",
      "Epoch 8/10\n",
      "27/27 [==============================] - ETA: 0s - loss: 0.3680 - accuracy: 0.8534 \n",
      "Epoch 00008: loss improved from 0.41674 to 0.36803, saving model to sent.h5\n",
      "27/27 [==============================] - 457s 17s/step - loss: 0.3680 - accuracy: 0.8534\n",
      "Epoch 9/10\n",
      "27/27 [==============================] - ETA: 0s - loss: 0.3313 - accuracy: 0.8720 \n",
      "Epoch 00009: loss improved from 0.36803 to 0.33128, saving model to sent.h5\n",
      "27/27 [==============================] - 454s 17s/step - loss: 0.3313 - accuracy: 0.8720\n",
      "Epoch 10/10\n",
      "27/27 [==============================] - ETA: 0s - loss: 0.2949 - accuracy: 0.8829 \n",
      "Epoch 00010: loss improved from 0.33128 to 0.29489, saving model to sent.h5\n",
      "27/27 [==============================] - 457s 17s/step - loss: 0.2949 - accuracy: 0.8829\n"
     ]
    },
    {
     "data": {
      "text/plain": [
       "<tensorflow.python.keras.callbacks.History at 0x2314b12c7c8>"
      ]
     },
     "execution_count": 11,
     "metadata": {},
     "output_type": "execute_result"
    }
   ],
   "source": [
    "# define the checkpoint\n",
    "from tensorflow.keras.callbacks import ModelCheckpoint\n",
    "\n",
    "filepath = \"sent.h5\"\n",
    "checkpoint = ModelCheckpoint(filepath, monitor='loss', verbose=1, save_best_only=True, mode='min')\n",
    "callbacks_list = [checkpoint]\n",
    "\n",
    "# fit the model\n",
    "model.fit(X_train, Y_train, epochs=10, batch_size=128, callbacks=callbacks_list)\n"
   ]
  },
  {
   "cell_type": "code",
   "execution_count": 14,
   "metadata": {},
   "outputs": [
    {
     "name": "stdout",
     "output_type": "stream",
     "text": [
      "Epoch 1/5\n",
      "68/68 [==============================] - ETA: 0s - loss: 0.4070 - accuracy: 0.8377\n",
      "Epoch 00001: loss improved from inf to 0.40696, saving model to sent.h5\n",
      "68/68 [==============================] - 166s 2s/step - loss: 0.4070 - accuracy: 0.8377\n",
      "Epoch 2/5\n",
      "68/68 [==============================] - ETA: 0s - loss: 0.3648 - accuracy: 0.8605\n",
      "Epoch 00002: loss improved from 0.40696 to 0.36475, saving model to sent.h5\n",
      "68/68 [==============================] - 164s 2s/step - loss: 0.3648 - accuracy: 0.8605\n",
      "Epoch 3/5\n",
      "68/68 [==============================] - ETA: 0s - loss: 0.3191 - accuracy: 0.8753\n",
      "Epoch 00003: loss improved from 0.36475 to 0.31910, saving model to sent.h5\n",
      "68/68 [==============================] - 161s 2s/step - loss: 0.3191 - accuracy: 0.8753\n",
      "Epoch 4/5\n",
      "68/68 [==============================] - ETA: 0s - loss: 0.2933 - accuracy: 0.8880\n",
      "Epoch 00004: loss improved from 0.31910 to 0.29331, saving model to sent.h5\n",
      "68/68 [==============================] - 209s 3s/step - loss: 0.2933 - accuracy: 0.8880\n",
      "Epoch 5/5\n",
      "68/68 [==============================] - ETA: 0s - loss: 0.2706 - accuracy: 0.8954\n",
      "Epoch 00005: loss improved from 0.29331 to 0.27062, saving model to sent.h5\n",
      "68/68 [==============================] - 188s 3s/step - loss: 0.2706 - accuracy: 0.8954\n"
     ]
    },
    {
     "data": {
      "text/plain": [
       "<tensorflow.python.keras.callbacks.History at 0x1c519d4d2c8>"
      ]
     },
     "execution_count": 14,
     "metadata": {},
     "output_type": "execute_result"
    }
   ],
   "source": [
    "from tensorflow.keras.models import  load_model\n",
    "from numpy.testing import assert_allclose\n",
    "\n",
    "# load the model\n",
    "new_model = load_model(\"sent.h5\")\n",
    "assert_allclose(model.predict(X_train),\n",
    "                new_model.predict(X_train),\n",
    "                1e-5)\n",
    "\n",
    "# fit the model\n",
    "checkpoint = ModelCheckpoint(filepath, monitor='loss', verbose=1, save_best_only=True, mode='min')\n",
    "callbacks_list = [checkpoint]\n",
    "new_model.fit(X_train, Y_train, epochs=5, batch_size=50, callbacks=callbacks_list)"
   ]
  },
  {
   "cell_type": "code",
   "execution_count": null,
   "metadata": {},
   "outputs": [],
   "source": [
    "from tensorflow.keras.models import  load_model\n",
    "from numpy.testing import assert_allclose\n",
    "\n",
    "# load the model\n",
    "new_model = load_model(\"sent.h5\")\n",
    "Y_pred = new_model.predict_classes(X_test,batch_size = 128)"
   ]
  },
  {
   "cell_type": "code",
   "execution_count": null,
   "metadata": {},
   "outputs": [],
   "source": []
  },
  {
   "cell_type": "code",
   "execution_count": 3,
   "metadata": {},
   "outputs": [
    {
     "ename": "NameError",
     "evalue": "name 'X_test' is not defined",
     "output_type": "error",
     "traceback": [
      "\u001b[1;31m---------------------------------------------------------------------------\u001b[0m",
      "\u001b[1;31mNameError\u001b[0m                                 Traceback (most recent call last)",
      "\u001b[1;32m~\\AppData\\Local\\Temp/ipykernel_5004/2246580427.py\u001b[0m in \u001b[0;36m<module>\u001b[1;34m\u001b[0m\n\u001b[0;32m      4\u001b[0m \u001b[1;31m# load the model\u001b[0m\u001b[1;33m\u001b[0m\u001b[1;33m\u001b[0m\u001b[1;33m\u001b[0m\u001b[0m\n\u001b[0;32m      5\u001b[0m \u001b[0mnew_model\u001b[0m \u001b[1;33m=\u001b[0m \u001b[0mload_model\u001b[0m\u001b[1;33m(\u001b[0m\u001b[1;34m\"D:/telechargement/aspects.h5\"\u001b[0m\u001b[1;33m)\u001b[0m\u001b[1;33m\u001b[0m\u001b[1;33m\u001b[0m\u001b[0m\n\u001b[1;32m----> 6\u001b[1;33m \u001b[0mY_pred\u001b[0m \u001b[1;33m=\u001b[0m \u001b[0mnew_model\u001b[0m\u001b[1;33m.\u001b[0m\u001b[0mpredict_classes\u001b[0m\u001b[1;33m(\u001b[0m\u001b[0mX_test\u001b[0m\u001b[1;33m,\u001b[0m\u001b[0mbatch_size\u001b[0m \u001b[1;33m=\u001b[0m \u001b[1;36m128\u001b[0m\u001b[1;33m)\u001b[0m\u001b[1;33m\u001b[0m\u001b[1;33m\u001b[0m\u001b[0m\n\u001b[0m\u001b[0;32m      7\u001b[0m \u001b[0mdf_test\u001b[0m \u001b[1;33m=\u001b[0m \u001b[0mpd\u001b[0m\u001b[1;33m.\u001b[0m\u001b[0mDataFrame\u001b[0m\u001b[1;33m(\u001b[0m\u001b[1;33m{\u001b[0m\u001b[1;34m'true'\u001b[0m\u001b[1;33m:\u001b[0m \u001b[0mY_test\u001b[0m\u001b[1;33m.\u001b[0m\u001b[0mtolist\u001b[0m\u001b[1;33m(\u001b[0m\u001b[1;33m)\u001b[0m\u001b[1;33m,\u001b[0m \u001b[1;34m'pred'\u001b[0m\u001b[1;33m:\u001b[0m\u001b[0mY_pred\u001b[0m\u001b[1;33m}\u001b[0m\u001b[1;33m)\u001b[0m\u001b[1;33m\u001b[0m\u001b[1;33m\u001b[0m\u001b[0m\n\u001b[0;32m      8\u001b[0m \u001b[0mdf_test\u001b[0m\u001b[1;33m[\u001b[0m\u001b[1;34m'true'\u001b[0m\u001b[1;33m]\u001b[0m \u001b[1;33m=\u001b[0m \u001b[0mdf_test\u001b[0m\u001b[1;33m[\u001b[0m\u001b[1;34m'true'\u001b[0m\u001b[1;33m]\u001b[0m\u001b[1;33m.\u001b[0m\u001b[0mapply\u001b[0m\u001b[1;33m(\u001b[0m\u001b[1;32mlambda\u001b[0m \u001b[0mx\u001b[0m\u001b[1;33m:\u001b[0m \u001b[0mnp\u001b[0m\u001b[1;33m.\u001b[0m\u001b[0margmax\u001b[0m\u001b[1;33m(\u001b[0m\u001b[0mx\u001b[0m\u001b[1;33m)\u001b[0m\u001b[1;33m)\u001b[0m\u001b[1;33m\u001b[0m\u001b[1;33m\u001b[0m\u001b[0m\n",
      "\u001b[1;31mNameError\u001b[0m: name 'X_test' is not defined"
     ]
    }
   ],
   "source": [
    "from tensorflow.keras.models import  load_model\n",
    "from numpy.testing import assert_allclose\n",
    "\n",
    "# load the model\n",
    "new_model = load_model(\"D:/telechargement/aspects.h5\")\n",
    "Y_pred = new_model.predict_classes(X_test,batch_size = 128)\n",
    "df_test = pd.DataFrame({'true': Y_test.tolist(), 'pred':Y_pred})\n",
    "df_test['true'] = df_test['true'].apply(lambda x: np.argmax(x))\n",
    "print(\"confusion matrix\",confusion_matrix(df_test.true, df_test.pred))\n",
    "print(classification_report(df_test.true, df_test.pred))\n",
    "print(\"Accuracy of the model : \", accuracy_score(df_test.true, df_test.pred))\n",
    "print(\"F1-score: \", f1_score(df_test.true, df_test.pred, average='micro'))"
   ]
  },
  {
   "cell_type": "code",
   "execution_count": 27,
   "metadata": {},
   "outputs": [
    {
     "name": "stdout",
     "output_type": "stream",
     "text": [
      "['صحفية هايلة يعطي صحة']\n",
      "1/1 - 0s\n",
      "positive\n"
     ]
    }
   ],
   "source": [
    "txt = ['صحفية هايلة يعطي صحة']\n",
    "#vectorizing the tweet by the pre-fitted tokenizer instance\n",
    "#vectorizing the tweet by the pre-fitted tokenizer instance\n",
    "twt = tokenizer.texts_to_sequences(txt)\n",
    "#padding the tweet to have exactly the same shape as `embedding_2` input\n",
    "twt = pad_sequences(twt, maxlen=29, dtype='int32', value=0)\n",
    "print(txt)\n",
    "sentiment = new_model.predict(twt,batch_size=1,verbose = 2)[0]\n",
    "if(np.argmax(sentiment) == 0):\n",
    "    print(\"negative\")\n",
    "elif (np.argmax(sentiment) == 2):\n",
    "    print(\"positive\")\n",
    "elif (np.argmax(sentiment) == 1):\n",
    "    print(\"neutre\")"
   ]
  },
  {
   "cell_type": "code",
   "execution_count": 35,
   "metadata": {},
   "outputs": [
    {
     "name": "stdout",
     "output_type": "stream",
     "text": [
      "confusion matrix [[107  34  68]\n",
      " [ 46 231  74]\n",
      " [ 54  81 151]]\n",
      "              precision    recall  f1-score   support\n",
      "\n",
      "           0       0.52      0.51      0.51       209\n",
      "           1       0.67      0.66      0.66       351\n",
      "           2       0.52      0.53      0.52       286\n",
      "\n",
      "    accuracy                           0.58       846\n",
      "   macro avg       0.57      0.57      0.57       846\n",
      "weighted avg       0.58      0.58      0.58       846\n",
      "\n"
     ]
    }
   ],
   "source": [
    "df_test = pd.DataFrame({'true': Y_test.tolist(), 'pred':Y_pred})\n",
    "df_test['true'] = df_test['true'].apply(lambda x: np.argmax(x))\n",
    "print(\"confusion matrix\",confusion_matrix(df_test.true, df_test.pred))\n",
    "print(classification_report(df_test.true, df_test.pred))"
   ]
  },
  {
   "cell_type": "code",
   "execution_count": 7,
   "metadata": {},
   "outputs": [
    {
     "name": "stdout",
     "output_type": "stream",
     "text": [
      "confusion matrix [[114  72  67]\n",
      " [ 74 337 182]\n",
      " [  0   0   0]]\n",
      "              precision    recall  f1-score   support\n",
      "\n",
      "           0       0.61      0.45      0.52       253\n",
      "           1       0.82      0.57      0.67       593\n",
      "           2       0.00      0.00      0.00         0\n",
      "\n",
      "    accuracy                           0.53       846\n",
      "   macro avg       0.48      0.34      0.40       846\n",
      "weighted avg       0.76      0.53      0.63       846\n",
      "\n"
     ]
    },
    {
     "name": "stderr",
     "output_type": "stream",
     "text": [
      "C:\\Users\\DELL\\anaconda3\\envs\\new_en\\lib\\site-packages\\sklearn\\metrics\\_classification.py:1248: UndefinedMetricWarning: Recall and F-score are ill-defined and being set to 0.0 in labels with no true samples. Use `zero_division` parameter to control this behavior.\n",
      "  _warn_prf(average, modifier, msg_start, len(result))\n",
      "C:\\Users\\DELL\\anaconda3\\envs\\new_en\\lib\\site-packages\\sklearn\\metrics\\_classification.py:1248: UndefinedMetricWarning: Recall and F-score are ill-defined and being set to 0.0 in labels with no true samples. Use `zero_division` parameter to control this behavior.\n",
      "  _warn_prf(average, modifier, msg_start, len(result))\n",
      "C:\\Users\\DELL\\anaconda3\\envs\\new_en\\lib\\site-packages\\sklearn\\metrics\\_classification.py:1248: UndefinedMetricWarning: Recall and F-score are ill-defined and being set to 0.0 in labels with no true samples. Use `zero_division` parameter to control this behavior.\n",
      "  _warn_prf(average, modifier, msg_start, len(result))\n"
     ]
    }
   ],
   "source": [
    "df_test = pd.DataFrame({'true': Y_test.tolist(), 'pred':Y_pred})\n",
    "df_test['true'] = df_test['true'].apply(lambda x: np.argmax(x))\n",
    "print(\"confusion matrix\",confusion_matrix(df_test.true, df_test.pred))\n",
    "print(classification_report(df_test.true, df_test.pred))"
   ]
  },
  {
   "cell_type": "code",
   "execution_count": 9,
   "metadata": {},
   "outputs": [
    {
     "name": "stdout",
     "output_type": "stream",
     "text": [
      "['نموت علي اكل تونسي محرحر']\n",
      "1/1 - 0s\n",
      "positive\n"
     ]
    }
   ],
   "source": [
    "txt = ['نموت علي اكل تونسي محرحر']\n",
    "#vectorizing the tweet by the pre-fitted tokenizer instance\n",
    "#vectorizing the tweet by the pre-fitted tokenizer instance\n",
    "twt = tokenizer.texts_to_sequences(txt)\n",
    "#padding the tweet to have exactly the same shape as `embedding_2` input\n",
    "twt = pad_sequences(twt, maxlen=29, dtype='int32', value=0)\n",
    "print(txt)\n",
    "sentiment = new_model.predict(twt,batch_size=1,verbose = 2)[0]\n",
    "if(np.argmax(sentiment) == 0):\n",
    "    print(\"negative\")\n",
    "elif (np.argmax(sentiment) == 1):\n",
    "    print(\"positive\")\n",
    "elif (np.argmax(sentiment) == 2):\n",
    "    print(\"neutre\")"
   ]
  },
  {
   "cell_type": "code",
   "execution_count": 10,
   "metadata": {},
   "outputs": [
    {
     "name": "stdout",
     "output_type": "stream",
     "text": [
      "['ملا تبلبيز']\n",
      "1/1 - 0s\n",
      "negative\n"
     ]
    }
   ],
   "source": [
    "txt = ['ملا تبلبيز']\n",
    "#vectorizing the tweet by the pre-fitted tokenizer instance\n",
    "twt = tokenizer.texts_to_sequences(txt)\n",
    "#padding the tweet to have exactly the same shape as `embedding_2` input\n",
    "twt = pad_sequences(twt, maxlen=29, dtype='int32', value=0)\n",
    "print(txt)\n",
    "sentiment = new_model.predict(twt,batch_size=1,verbose = 2)[0]\n",
    "if(np.argmax(sentiment) == 0):\n",
    "    print(\"negative\")\n",
    "elif (np.argmax(sentiment) == 1):\n",
    "    print(\"positive\")\n",
    "elif (np.argmax(sentiment) == 2):\n",
    "    print(\"neutre\")"
   ]
  },
  {
   "cell_type": "markdown",
   "metadata": {},
   "source": [
    "# model aspect"
   ]
  },
  {
   "cell_type": "code",
   "execution_count": 15,
   "metadata": {},
   "outputs": [
    {
     "data": {
      "text/html": [
       "<div>\n",
       "<style scoped>\n",
       "    .dataframe tbody tr th:only-of-type {\n",
       "        vertical-align: middle;\n",
       "    }\n",
       "\n",
       "    .dataframe tbody tr th {\n",
       "        vertical-align: top;\n",
       "    }\n",
       "\n",
       "    .dataframe thead th {\n",
       "        text-align: right;\n",
       "    }\n",
       "</style>\n",
       "<table border=\"1\" class=\"dataframe\">\n",
       "  <thead>\n",
       "    <tr style=\"text-align: right;\">\n",
       "      <th></th>\n",
       "      <th>sentence</th>\n",
       "      <th>polarity</th>\n",
       "      <th>category</th>\n",
       "      <th>aspect</th>\n",
       "    </tr>\n",
       "  </thead>\n",
       "  <tbody>\n",
       "    <tr>\n",
       "      <th>0</th>\n",
       "      <td>نموت علي اكل تونسي محرحر</td>\n",
       "      <td>Positive</td>\n",
       "      <td>FOOD#QUALITY</td>\n",
       "      <td>اكل</td>\n",
       "    </tr>\n",
       "    <tr>\n",
       "      <th>1</th>\n",
       "      <td>شعب هريسه اثبت وجود</td>\n",
       "      <td>Positive</td>\n",
       "      <td>GENERAL</td>\n",
       "      <td>NaN</td>\n",
       "    </tr>\n",
       "    <tr>\n",
       "      <th>2</th>\n",
       "      <td>انا فلسطي بفتخر انو تونس عرب مثلي تحيه لبلد را...</td>\n",
       "      <td>Positive</td>\n",
       "      <td>GENERAL</td>\n",
       "      <td>NaN</td>\n",
       "    </tr>\n",
       "    <tr>\n",
       "      <th>3</th>\n",
       "      <td>والله اطيب واذكي شعب ومضياف وشعب راقي تونس بوا...</td>\n",
       "      <td>Positive</td>\n",
       "      <td>GENERAL</td>\n",
       "      <td>NaN</td>\n",
       "    </tr>\n",
       "    <tr>\n",
       "      <th>4</th>\n",
       "      <td>والله هذا شاب تونسي رجال وكريم وطيب و ابن ناس ...</td>\n",
       "      <td>Positive</td>\n",
       "      <td>GENERAL</td>\n",
       "      <td>NaN</td>\n",
       "    </tr>\n",
       "    <tr>\n",
       "      <th>...</th>\n",
       "      <td>...</td>\n",
       "      <td>...</td>\n",
       "      <td>...</td>\n",
       "      <td>...</td>\n",
       "    </tr>\n",
       "    <tr>\n",
       "      <th>4224</th>\n",
       "      <td>مضر</td>\n",
       "      <td>Negative</td>\n",
       "      <td>RESTAURANT#cleanliness</td>\n",
       "      <td>نظافة</td>\n",
       "    </tr>\n",
       "    <tr>\n",
       "      <th>4225</th>\n",
       "      <td>ياسر مسخ</td>\n",
       "      <td>Negative</td>\n",
       "      <td>RESTAURANT#cleanliness</td>\n",
       "      <td>نظافة</td>\n",
       "    </tr>\n",
       "    <tr>\n",
       "      <th>4226</th>\n",
       "      <td>ملا تبلبيز</td>\n",
       "      <td>Negative</td>\n",
       "      <td>RESTAURANT#cleanliness</td>\n",
       "      <td>نظافة</td>\n",
       "    </tr>\n",
       "    <tr>\n",
       "      <th>4227</th>\n",
       "      <td>بنينه برشا و نظيفه انظف من محل عصريه نظيفه من ...</td>\n",
       "      <td>Positive</td>\n",
       "      <td>FOOD#QUALITY</td>\n",
       "      <td>اكل</td>\n",
       "    </tr>\n",
       "    <tr>\n",
       "      <th>4228</th>\n",
       "      <td>بنينه برشا و نظيفه انظف من محل عصريه نظيفه من ...</td>\n",
       "      <td>Positive</td>\n",
       "      <td>RESTAURANT#cleanliness</td>\n",
       "      <td>نظافة</td>\n",
       "    </tr>\n",
       "  </tbody>\n",
       "</table>\n",
       "<p>4229 rows × 4 columns</p>\n",
       "</div>"
      ],
      "text/plain": [
       "                                               sentence  polarity  \\\n",
       "0                              نموت علي اكل تونسي محرحر  Positive   \n",
       "1                                   شعب هريسه اثبت وجود  Positive   \n",
       "2     انا فلسطي بفتخر انو تونس عرب مثلي تحيه لبلد را...  Positive   \n",
       "3     والله اطيب واذكي شعب ومضياف وشعب راقي تونس بوا...  Positive   \n",
       "4     والله هذا شاب تونسي رجال وكريم وطيب و ابن ناس ...  Positive   \n",
       "...                                                 ...       ...   \n",
       "4224                                                مضر  Negative   \n",
       "4225                                           ياسر مسخ  Negative   \n",
       "4226                                         ملا تبلبيز  Negative   \n",
       "4227  بنينه برشا و نظيفه انظف من محل عصريه نظيفه من ...  Positive   \n",
       "4228  بنينه برشا و نظيفه انظف من محل عصريه نظيفه من ...  Positive   \n",
       "\n",
       "                    category aspect  \n",
       "0               FOOD#QUALITY    اكل  \n",
       "1                    GENERAL    NaN  \n",
       "2                    GENERAL    NaN  \n",
       "3                    GENERAL    NaN  \n",
       "4                    GENERAL    NaN  \n",
       "...                      ...    ...  \n",
       "4224  RESTAURANT#cleanliness  نظافة  \n",
       "4225  RESTAURANT#cleanliness  نظافة  \n",
       "4226  RESTAURANT#cleanliness  نظافة  \n",
       "4227            FOOD#QUALITY    اكل  \n",
       "4228  RESTAURANT#cleanliness  نظافة  \n",
       "\n",
       "[4229 rows x 4 columns]"
      ]
     },
     "execution_count": 15,
     "metadata": {},
     "output_type": "execute_result"
    }
   ],
   "source": [
    "dat = pd.read_csv('C:/Users/DELL/Desktop/4 dataset/restaurant1.csv',error_bad_lines=False , encoding='utf-8')\n",
    "\n",
    "dat "
   ]
  },
  {
   "cell_type": "code",
   "execution_count": 16,
   "metadata": {},
   "outputs": [
    {
     "data": {
      "text/html": [
       "<div>\n",
       "<style scoped>\n",
       "    .dataframe tbody tr th:only-of-type {\n",
       "        vertical-align: middle;\n",
       "    }\n",
       "\n",
       "    .dataframe tbody tr th {\n",
       "        vertical-align: top;\n",
       "    }\n",
       "\n",
       "    .dataframe thead th {\n",
       "        text-align: right;\n",
       "    }\n",
       "</style>\n",
       "<table border=\"1\" class=\"dataframe\">\n",
       "  <thead>\n",
       "    <tr style=\"text-align: right;\">\n",
       "      <th></th>\n",
       "      <th>sentence</th>\n",
       "      <th>category</th>\n",
       "    </tr>\n",
       "  </thead>\n",
       "  <tbody>\n",
       "    <tr>\n",
       "      <th>0</th>\n",
       "      <td>نموت علي اكل تونسي محرحر</td>\n",
       "      <td>FOOD#QUALITY</td>\n",
       "    </tr>\n",
       "    <tr>\n",
       "      <th>1</th>\n",
       "      <td>شعب هريسه اثبت وجود</td>\n",
       "      <td>GENERAL</td>\n",
       "    </tr>\n",
       "    <tr>\n",
       "      <th>2</th>\n",
       "      <td>انا فلسطي بفتخر انو تونس عرب مثلي تحيه لبلد را...</td>\n",
       "      <td>GENERAL</td>\n",
       "    </tr>\n",
       "    <tr>\n",
       "      <th>3</th>\n",
       "      <td>والله اطيب واذكي شعب ومضياف وشعب راقي تونس بوا...</td>\n",
       "      <td>GENERAL</td>\n",
       "    </tr>\n",
       "    <tr>\n",
       "      <th>4</th>\n",
       "      <td>والله هذا شاب تونسي رجال وكريم وطيب و ابن ناس ...</td>\n",
       "      <td>GENERAL</td>\n",
       "    </tr>\n",
       "    <tr>\n",
       "      <th>...</th>\n",
       "      <td>...</td>\n",
       "      <td>...</td>\n",
       "    </tr>\n",
       "    <tr>\n",
       "      <th>4224</th>\n",
       "      <td>مضر</td>\n",
       "      <td>RESTAURANT#cleanliness</td>\n",
       "    </tr>\n",
       "    <tr>\n",
       "      <th>4225</th>\n",
       "      <td>ياسر مسخ</td>\n",
       "      <td>RESTAURANT#cleanliness</td>\n",
       "    </tr>\n",
       "    <tr>\n",
       "      <th>4226</th>\n",
       "      <td>ملا تبلبيز</td>\n",
       "      <td>RESTAURANT#cleanliness</td>\n",
       "    </tr>\n",
       "    <tr>\n",
       "      <th>4227</th>\n",
       "      <td>بنينه برشا و نظيفه انظف من محل عصريه نظيفه من ...</td>\n",
       "      <td>FOOD#QUALITY</td>\n",
       "    </tr>\n",
       "    <tr>\n",
       "      <th>4228</th>\n",
       "      <td>بنينه برشا و نظيفه انظف من محل عصريه نظيفه من ...</td>\n",
       "      <td>RESTAURANT#cleanliness</td>\n",
       "    </tr>\n",
       "  </tbody>\n",
       "</table>\n",
       "<p>4229 rows × 2 columns</p>\n",
       "</div>"
      ],
      "text/plain": [
       "                                               sentence  \\\n",
       "0                              نموت علي اكل تونسي محرحر   \n",
       "1                                   شعب هريسه اثبت وجود   \n",
       "2     انا فلسطي بفتخر انو تونس عرب مثلي تحيه لبلد را...   \n",
       "3     والله اطيب واذكي شعب ومضياف وشعب راقي تونس بوا...   \n",
       "4     والله هذا شاب تونسي رجال وكريم وطيب و ابن ناس ...   \n",
       "...                                                 ...   \n",
       "4224                                                مضر   \n",
       "4225                                           ياسر مسخ   \n",
       "4226                                         ملا تبلبيز   \n",
       "4227  بنينه برشا و نظيفه انظف من محل عصريه نظيفه من ...   \n",
       "4228  بنينه برشا و نظيفه انظف من محل عصريه نظيفه من ...   \n",
       "\n",
       "                    category  \n",
       "0               FOOD#QUALITY  \n",
       "1                    GENERAL  \n",
       "2                    GENERAL  \n",
       "3                    GENERAL  \n",
       "4                    GENERAL  \n",
       "...                      ...  \n",
       "4224  RESTAURANT#cleanliness  \n",
       "4225  RESTAURANT#cleanliness  \n",
       "4226  RESTAURANT#cleanliness  \n",
       "4227            FOOD#QUALITY  \n",
       "4228  RESTAURANT#cleanliness  \n",
       "\n",
       "[4229 rows x 2 columns]"
      ]
     },
     "execution_count": 16,
     "metadata": {},
     "output_type": "execute_result"
    }
   ],
   "source": [
    "data1 = dat[['sentence','category']]\n",
    "data1"
   ]
  },
  {
   "cell_type": "code",
   "execution_count": 17,
   "metadata": {},
   "outputs": [
    {
     "data": {
      "text/plain": [
       "array([[   0,    0,    0,    0,    0,    0,    0,    0,    0,    0,    0,\n",
       "           0,    0,    0,    0,    0,    0,    0,    0,    0,    0,    0,\n",
       "           0,    0,    0,    0,    0,    0,    0,    0,    0,    0,    0,\n",
       "           0,    0,    0,    0,    0,    0,    0,    0,    0,    0,    0,\n",
       "           0,    0,    0,    0,    0,    0,    0,    0,    0,    0,    0,\n",
       "           0,    0,    0,    0,    0,    0,    0,    0,    0,    0,    0,\n",
       "           0,    0,    0,    0,    0,    0,    0,    0,    0,    0,    0,\n",
       "           0,    0,    0,    0,    0,    0,    0,    0,    0,    0,    0,\n",
       "           0,    0,    0,    0,    0,    0,    0,    0,    0,    0,    0,\n",
       "           0,    0,    0,    0,    0,    0,    0,    0,    0,    0,    0,\n",
       "           0,    0,    0,    0,    0,    0,    0,    0,    0,    0,    0,\n",
       "           0,    0,    0,    0,    0,    0,    0,    0,    0,    0,    0,\n",
       "           0,    0,    0,    0,    0,    0,    0,    0,    0,    0,    0,\n",
       "           0,    0,    0,    0,    0,    0,    0,    0,    0,    0,    0,\n",
       "           0,    0,    0,    0,    0,    0,    0,    0,    0,    0,    0,\n",
       "           0,    0,    0,    0,    0,    0,    0,    0,    0,    0,    0,\n",
       "           0,    0,    0,    0,    0,    0,    0,    0,    0,    0,    0,\n",
       "           0,    0,    0,    0,    0,    0,    0,    0,    0,    0,    0,\n",
       "           0,    0,    0,    0,    0,    0,    0,  172,    6,    9,   13,\n",
       "        1551],\n",
       "       [   0,    0,    0,    0,    0,    0,    0,    0,    0,    0,    0,\n",
       "           0,    0,    0,    0,    0,    0,    0,    0,    0,    0,    0,\n",
       "           0,    0,    0,    0,    0,    0,    0,    0,    0,    0,    0,\n",
       "           0,    0,    0,    0,    0,    0,    0,    0,    0,    0,    0,\n",
       "           0,    0,    0,    0,    0,    0,    0,    0,    0,    0,    0,\n",
       "           0,    0,    0,    0,    0,    0,    0,    0,    0,    0,    0,\n",
       "           0,    0,    0,    0,    0,    0,    0,    0,    0,    0,    0,\n",
       "           0,    0,    0,    0,    0,    0,    0,    0,    0,    0,    0,\n",
       "           0,    0,    0,    0,    0,    0,    0,    0,    0,    0,    0,\n",
       "           0,    0,    0,    0,    0,    0,    0,    0,    0,    0,    0,\n",
       "           0,    0,    0,    0,    0,    0,    0,    0,    0,    0,    0,\n",
       "           0,    0,    0,    0,    0,    0,    0,    0,    0,    0,    0,\n",
       "           0,    0,    0,    0,    0,    0,    0,    0,    0,    0,    0,\n",
       "           0,    0,    0,    0,    0,    0,    0,    0,    0,    0,    0,\n",
       "           0,    0,    0,    0,    0,    0,    0,    0,    0,    0,    0,\n",
       "           0,    0,    0,    0,    0,    0,    0,    0,    0,    0,    0,\n",
       "           0,    0,    0,    0,    0,    0,    0,    0,    0,    0,    0,\n",
       "           0,    0,    0,    0,    0,    0,    0,    0,    0,    0,    0,\n",
       "           0,    0,    0,    0,    0,    0,    0,    0,   34,   41, 1959,\n",
       "        1285]])"
      ]
     },
     "execution_count": 17,
     "metadata": {},
     "output_type": "execute_result"
    }
   ],
   "source": [
    "\n",
    "max_fatures = 2000\n",
    "tokenizer = Tokenizer(num_words=max_fatures, split=' ')\n",
    "tokenizer.fit_on_texts(data1['sentence'].values)\n",
    "X = tokenizer.texts_to_sequences(data1['sentence'].values)\n",
    "X = pad_sequences(X)\n",
    "X[:2]"
   ]
  },
  {
   "cell_type": "code",
   "execution_count": 14,
   "metadata": {},
   "outputs": [
    {
     "name": "stderr",
     "output_type": "stream",
     "text": [
      "C:\\Users\\DELL\\anaconda3\\envs\\new_en\\lib\\site-packages\\pandas\\core\\indexing.py:1636: SettingWithCopyWarning: \n",
      "A value is trying to be set on a copy of a slice from a DataFrame\n",
      "\n",
      "See the caveats in the documentation: https://pandas.pydata.org/pandas-docs/stable/user_guide/indexing.html#returning-a-view-versus-a-copy\n",
      "  self._setitem_single_block(indexer, value, name)\n",
      "C:\\Users\\DELL\\anaconda3\\envs\\new_en\\lib\\site-packages\\pandas\\core\\indexing.py:691: SettingWithCopyWarning: \n",
      "A value is trying to be set on a copy of a slice from a DataFrame\n",
      "\n",
      "See the caveats in the documentation: https://pandas.pydata.org/pandas-docs/stable/user_guide/indexing.html#returning-a-view-versus-a-copy\n",
      "  iloc._setitem_with_indexer(indexer, value, self.name)\n"
     ]
    }
   ],
   "source": [
    "data1.loc[data1.category == \"#GENERAL\", 'category'] = \"RESTAURANT#GENERAL\"\n"
   ]
  },
  {
   "cell_type": "code",
   "execution_count": 14,
   "metadata": {},
   "outputs": [
    {
     "data": {
      "text/plain": [
       "GENERAL                    1634\n",
       "RESTAURANT#GENERAL          808\n",
       "FOOD#QUALITY                724\n",
       "RESTAURANT#SERVICE          387\n",
       "RESTAURANT#cleanliness      333\n",
       "RESTAURANT#LOCALISATION     174\n",
       "FOOD#PRICES                 165\n",
       "RFOOD#QUALITY                 4\n",
       "Name: category, dtype: int64"
      ]
     },
     "execution_count": 14,
     "metadata": {},
     "output_type": "execute_result"
    },
    {
     "data": {
      "image/png": "[encoded data removed]",
      "text/plain": [
       "<Figure size 432x288 with 1 Axes>"
      ]
     },
     "metadata": {
      "needs_background": "light"
     },
     "output_type": "display_data"
    }
   ],
   "source": [
    "data1.category.value_counts().plot.bar()\n",
    "data1.category.value_counts()"
   ]
  },
  {
   "cell_type": "code",
   "execution_count": 18,
   "metadata": {
    "_cell_guid": "43632d2d-6160-12ce-48b0-e5eb1c207076",
    "_uuid": "d0f8b4542106a279f7398db7285ae5e370b2e813"
   },
   "outputs": [
    {
     "name": "stdout",
     "output_type": "stream",
     "text": [
      "3268\n",
      "1616\n",
      "1456\n",
      "330\n",
      "348\n",
      "774\n",
      "666\n"
     ]
    },
    {
     "data": {
      "text/html": [
       "<div>\n",
       "<style scoped>\n",
       "    .dataframe tbody tr th:only-of-type {\n",
       "        vertical-align: middle;\n",
       "    }\n",
       "\n",
       "    .dataframe tbody tr th {\n",
       "        vertical-align: top;\n",
       "    }\n",
       "\n",
       "    .dataframe thead th {\n",
       "        text-align: right;\n",
       "    }\n",
       "</style>\n",
       "<table border=\"1\" class=\"dataframe\">\n",
       "  <thead>\n",
       "    <tr style=\"text-align: right;\">\n",
       "      <th></th>\n",
       "      <th>sentence</th>\n",
       "      <th>category</th>\n",
       "    </tr>\n",
       "  </thead>\n",
       "  <tbody>\n",
       "    <tr>\n",
       "      <th>0</th>\n",
       "      <td>نموت علي اكل تونسي محرحر</td>\n",
       "      <td>FOOD#QUALITY</td>\n",
       "    </tr>\n",
       "    <tr>\n",
       "      <th>1</th>\n",
       "      <td>شعب هريسه اثبت وجود</td>\n",
       "      <td>GENERAL</td>\n",
       "    </tr>\n",
       "    <tr>\n",
       "      <th>2</th>\n",
       "      <td>انا فلسطي بفتخر انو تونس عرب مثلي تحيه لبلد را...</td>\n",
       "      <td>GENERAL</td>\n",
       "    </tr>\n",
       "    <tr>\n",
       "      <th>3</th>\n",
       "      <td>والله اطيب واذكي شعب ومضياف وشعب راقي تونس بوا...</td>\n",
       "      <td>GENERAL</td>\n",
       "    </tr>\n",
       "    <tr>\n",
       "      <th>4</th>\n",
       "      <td>والله هذا شاب تونسي رجال وكريم وطيب و ابن ناس ...</td>\n",
       "      <td>GENERAL</td>\n",
       "    </tr>\n",
       "  </tbody>\n",
       "</table>\n",
       "</div>"
      ],
      "text/plain": [
       "                                            sentence      category\n",
       "0                           نموت علي اكل تونسي محرحر  FOOD#QUALITY\n",
       "1                                شعب هريسه اثبت وجود       GENERAL\n",
       "2  انا فلسطي بفتخر انو تونس عرب مثلي تحيه لبلد را...       GENERAL\n",
       "3  والله اطيب واذكي شعب ومضياف وشعب راقي تونس بوا...       GENERAL\n",
       "4  والله هذا شاب تونسي رجال وكريم وطيب و ابن ناس ...       GENERAL"
      ]
     },
     "execution_count": 18,
     "metadata": {},
     "output_type": "execute_result"
    }
   ],
   "source": [
    "print(data1[ data1['category'] == 'GENERAL'].size)\n",
    "print(data1[ data1['category'] == 'RESTAURANT#GENERAL'].size)\n",
    "print(data1[ data1['category'] == 'FOOD#QUALITY'].size)\n",
    "print(data1[ data1['category'] == 'FOOD#PRICES'].size)\n",
    "print(data1[ data1['category'] == 'RESTAURANT#LOCALISATION'].size)\n",
    "print(data1[ data1['category'] == 'RESTAURANT#SERVICE'].size)\n",
    "print(data1[ data1['category'] == 'RESTAURANT#cleanliness'].size)\n",
    "\n",
    "for idx,row in data1.iterrows():\n",
    "    row[0] = row[0].replace('rt','')\n",
    "data1.head()"
   ]
  },
  {
   "cell_type": "code",
   "execution_count": 19,
   "metadata": {},
   "outputs": [],
   "source": [
    "# saving aspects_encoder_rest encoder\n",
    "#import pickle\n",
    "#with open('aspects_encoder_rest.pickle', 'wb') as hand:\n",
    "#    pickle.dump(data1, hand, protocol=pickle.HIGHEST_PROTOCOL)"
   ]
  },
  {
   "cell_type": "code",
   "execution_count": 20,
   "metadata": {
    "_cell_guid": "43632d2d-6160-12ce-48b0-e5eb1c207076",
    "_uuid": "d0f8b4542106a279f7398db7285ae5e370b2e813"
   },
   "outputs": [
    {
     "name": "stdout",
     "output_type": "stream",
     "text": [
      "Model: \"sequential_1\"\n",
      "_________________________________________________________________\n",
      "Layer (type)                 Output Shape              Param #   \n",
      "=================================================================\n",
      "embedding_1 (Embedding)      (None, 210, 128)          256000    \n",
      "_________________________________________________________________\n",
      "spatial_dropout1d_1 (Spatial (None, 210, 128)          0         \n",
      "_________________________________________________________________\n",
      "lstm_1 (LSTM)                (None, 512)               1312768   \n",
      "_________________________________________________________________\n",
      "dense_1 (Dense)              (None, 7)                 3591      \n",
      "=================================================================\n",
      "Total params: 1,572,359\n",
      "Trainable params: 1,572,359\n",
      "Non-trainable params: 0\n",
      "_________________________________________________________________\n",
      "None\n"
     ]
    }
   ],
   "source": [
    "    \n",
    "\n",
    "embed_dim = 128\n",
    "lstm_out = 512\n",
    "\n",
    "model1 = Sequential()\n",
    "model1.add(Embedding(max_fatures, embed_dim,input_length = X.shape[1]))\n",
    "model1.add(SpatialDropout1D(0.4))\n",
    "model1.add(LSTM(lstm_out, dropout=0.2, recurrent_dropout=0.2))\n",
    "model1.add(Dense(7,activation='softmax'))\n",
    "model1.compile(loss = 'categorical_crossentropy', optimizer='adam',metrics = ['accuracy'])\n",
    "print(model1.summary())\n"
   ]
  },
  {
   "cell_type": "code",
   "execution_count": 21,
   "metadata": {},
   "outputs": [
    {
     "name": "stdout",
     "output_type": "stream",
     "text": [
      "(3383, 210) (3383, 7)\n",
      "(846, 210) (846, 7)\n"
     ]
    }
   ],
   "source": [
    "\n",
    "Y = pd.get_dummies(dat['category']).values\n",
    "X_train, X_test, Y_train, Y_test = train_test_split(X,Y, test_size = 0.2, random_state = 42)\n",
    "print(X_train.shape,Y_train.shape)\n",
    "print(X_test.shape,Y_test.shape)"
   ]
  },
  {
   "cell_type": "code",
   "execution_count": 11,
   "metadata": {
    "_cell_guid": "1ba3cf60-a83c-9c21-05e0-b14303027e93",
    "_uuid": "05cb9ef0ec9e0a4067e3ab7c1bda7b2c1211feda",
    "scrolled": true
   },
   "outputs": [
    {
     "name": "stdout",
     "output_type": "stream",
     "text": [
      "(3383, 207) (3383, 7)\n",
      "(846, 207) (846, 7)\n"
     ]
    }
   ],
   "source": [
    "\n",
    "Y = pd.get_dummies(dat['category']).values\n",
    "X_train, X_test, Y_train, Y_test = train_test_split(X,Y, test_size = 0.2, random_state = 42)\n",
    "print(X_train.shape,Y_train.shape)\n",
    "print(X_test.shape,Y_test.shape)\n"
   ]
  },
  {
   "cell_type": "code",
   "execution_count": null,
   "metadata": {},
   "outputs": [
    {
     "name": "stdout",
     "output_type": "stream",
     "text": [
      "Epoch 1/10\n",
      "27/27 [==============================] - 3855s 143s/step - loss: 1.7796 - accuracy: 0.3742\n",
      "Epoch 2/10\n",
      "27/27 [==============================] - 2807s 104s/step - loss: 1.6229 - accuracy: 0.3816\n",
      "Epoch 3/10\n",
      "27/27 [==============================] - 2586s 96s/step - loss: 1.4682 - accuracy: 0.4614\n",
      "Epoch 4/10\n",
      "27/27 [==============================] - 1776s 66s/step - loss: 1.2335 - accuracy: 0.5534\n",
      "Epoch 5/10\n",
      "27/27 [==============================] - 915s 34s/step - loss: 1.0274 - accuracy: 0.6459\n",
      "Epoch 6/10\n",
      "27/27 [==============================] - 865s 32s/step - loss: 0.8644 - accuracy: 0.7009\n",
      "Epoch 7/10\n",
      "27/27 [==============================] - 886s 33s/step - loss: 0.7196 - accuracy: 0.7612\n",
      "Epoch 8/10\n",
      "23/27 [========================>.....] - ETA: 2:13 - loss: 0.6333 - accuracy: 0.7870"
     ]
    }
   ],
   "source": [
    "batch_size = 128\n",
    "model1.fit(X_train, Y_train, epochs =10, batch_size=batch_size, verbose = 1)"
   ]
  },
  {
   "cell_type": "code",
   "execution_count": null,
   "metadata": {},
   "outputs": [],
   "source": [
    "from sklearn.metrics import accuracy_score,f1_score\n",
    "Y_pred = model.predict_classes(X_test,batch_size = 128)\n",
    "df_test = pd.DataFrame({'true': Y_test.tolist(), 'pred':Y_pred})\n",
    "df_test['true'] = df_test['true'].apply(lambda x: np.argmax(x))\n",
    "print(\"confusion matrix\",confusion_matrix(df_test.true, df_test.pred))\n",
    "print(classification_report(df_test.true, df_test.pred))\n",
    "print(\"Accuracy of the model : \", accuracy_score(df_test.true, df_test.pred))\n",
    "print(\"F1-score: \", f1_score(df_test.true, df_test.pred, average='micro'))"
   ]
  },
  {
   "cell_type": "code",
   "execution_count": 21,
   "metadata": {},
   "outputs": [
    {
     "name": "stdout",
     "output_type": "stream",
     "text": [
      "Epoch 1/10\n",
      "68/68 [==============================] - ETA: 0s - loss: 0.8009 - accuracy: 0.7221 \n",
      "Epoch 00001: loss improved from inf to 0.80091, saving model to asp.h5\n",
      "68/68 [==============================] - 1971s 29s/step - loss: 0.8009 - accuracy: 0.7221\n",
      "Epoch 2/10\n",
      "68/68 [==============================] - ETA: 0s - loss: 0.6533 - accuracy: 0.7748 \n",
      "Epoch 00002: loss improved from 0.80091 to 0.65327, saving model to asp.h5\n",
      "68/68 [==============================] - 1970s 29s/step - loss: 0.6533 - accuracy: 0.7748\n",
      "Epoch 3/10\n",
      "68/68 [==============================] - ETA: 0s - loss: 0.5260 - accuracy: 0.8158 \n",
      "Epoch 00003: loss improved from 0.65327 to 0.52596, saving model to asp.h5\n",
      "68/68 [==============================] - 1972s 29s/step - loss: 0.5260 - accuracy: 0.8158\n",
      "Epoch 4/10\n",
      "68/68 [==============================] - ETA: 0s - loss: 0.4727 - accuracy: 0.8380 \n",
      "Epoch 00004: loss improved from 0.52596 to 0.47272, saving model to asp.h5\n",
      "68/68 [==============================] - 1982s 29s/step - loss: 0.4727 - accuracy: 0.8380\n",
      "Epoch 5/10\n",
      "68/68 [==============================] - ETA: 0s - loss: 0.4168 - accuracy: 0.8569 \n",
      "Epoch 00005: loss improved from 0.47272 to 0.41685, saving model to asp.h5\n",
      "68/68 [==============================] - 1965s 29s/step - loss: 0.4168 - accuracy: 0.8569\n",
      "Epoch 6/10\n",
      "68/68 [==============================] - ETA: 0s - loss: 0.3719 - accuracy: 0.8732 \n",
      "Epoch 00006: loss improved from 0.41685 to 0.37193, saving model to asp.h5\n",
      "68/68 [==============================] - 2004s 29s/step - loss: 0.3719 - accuracy: 0.8732\n",
      "Epoch 7/10\n",
      "68/68 [==============================] - ETA: 0s - loss: 0.3401 - accuracy: 0.8812 \n",
      "Epoch 00007: loss improved from 0.37193 to 0.34009, saving model to asp.h5\n",
      "68/68 [==============================] - 1967s 29s/step - loss: 0.3401 - accuracy: 0.8812\n",
      "Epoch 8/10\n",
      "68/68 [==============================] - ETA: 0s - loss: 0.3160 - accuracy: 0.8912 \n",
      "Epoch 00008: loss improved from 0.34009 to 0.31601, saving model to asp.h5\n",
      "68/68 [==============================] - 1959s 29s/step - loss: 0.3160 - accuracy: 0.8912\n",
      "Epoch 9/10\n",
      "68/68 [==============================] - ETA: 0s - loss: 0.2819 - accuracy: 0.9025 \n",
      "Epoch 00009: loss improved from 0.31601 to 0.28193, saving model to asp.h5\n",
      "68/68 [==============================] - 1997s 29s/step - loss: 0.2819 - accuracy: 0.9025\n",
      "Epoch 10/10\n",
      "68/68 [==============================] - ETA: 0s - loss: 0.3326 - accuracy: 0.8883 \n",
      "Epoch 00010: loss did not improve from 0.28193\n",
      "68/68 [==============================] - 2003s 29s/step - loss: 0.3326 - accuracy: 0.8883\n"
     ]
    },
    {
     "data": {
      "text/plain": [
       "<tensorflow.python.keras.callbacks.History at 0x23105d8a488>"
      ]
     },
     "execution_count": 21,
     "metadata": {},
     "output_type": "execute_result"
    }
   ],
   "source": [
    "# define the checkpoint\n",
    "from tensorflow.keras.callbacks import ModelCheckpoint\n",
    "\n",
    "filepath = \"asp.h5\"\n",
    "checkpoint = ModelCheckpoint(filepath, monitor='loss', verbose=1, save_best_only=True, mode='min')\n",
    "callbacks_list = [checkpoint]\n",
    "\n",
    "# fit the model\n",
    "model1.fit(X_train, Y_train, epochs=10,batch_size=50, callbacks=callbacks_list)"
   ]
  },
  {
   "cell_type": "code",
   "execution_count": null,
   "metadata": {},
   "outputs": [],
   "source": [
    "from tensorflow.keras.models import  load_model\n",
    "from numpy.testing import assert_allclose\n",
    "\n",
    "# load the model\n",
    "new_model1 = load_model(\"asp.h5\")\n",
    "assert_allclose(model1.predict(X_train),\n",
    "                new_model1.predict(X_train),\n",
    "                1e-5)\n",
    "\n",
    "# fit the model\n",
    "checkpoint = ModelCheckpoint(filepath, monitor='loss', verbose=1, save_best_only=True, mode='min')\n",
    "callbacks_list = [checkpoint]\n",
    "new_model1.fit(X_train, Y_train, epochs=10, batch_size=50, callbacks=callbacks_list)"
   ]
  },
  {
   "cell_type": "markdown",
   "metadata": {
    "_cell_guid": "2a775979-a930-e627-2963-18557d7bf6e6",
    "_uuid": "8799a667a2c0254cb367c193d86e07ee36d91dd7"
   },
   "source": [
    "Here we train the Network. We should run much more than 7 epoch, but I would have to wait forever for kaggle, so it is 7 for now."
   ]
  },
  {
   "cell_type": "code",
   "execution_count": null,
   "metadata": {},
   "outputs": [],
   "source": [
    "model1.load_weights(\"aspect.h5\")"
   ]
  },
  {
   "cell_type": "markdown",
   "metadata": {
    "_cell_guid": "4ebd7bc1-53c0-0e31-a0b0-b6d0a3017434",
    "_uuid": "47e99d7ed1f27a85eb01dbafc71b66b329fb1d12"
   },
   "source": [
    "Extracting a validation set, and measuring score and accuracy."
   ]
  },
  {
   "cell_type": "code",
   "execution_count": 29,
   "metadata": {
    "_uuid": "4701961e44bd243e505fc2c1b53b323311ad2b80"
   },
   "outputs": [],
   "source": [
    "new_model1 = load_model(\"C:/Users/DELL/Desktop/memoire de master/myproject/asp_el.h5\")\n",
    "Y_pred1 = new_model1.predict_classes(X_test,batch_size = 128)"
   ]
  },
  {
   "cell_type": "code",
   "execution_count": 15,
   "metadata": {
    "_uuid": "13d9f618b3b74f881d68aed864a26249d26e63de"
   },
   "outputs": [
    {
     "name": "stdout",
     "output_type": "stream",
     "text": [
      "confusion matrix [[ 12   8   4   2   0   1   3]\n",
      " [  1  37  16  21   2   5   9]\n",
      " [  2  20 248  52   1  20   8]\n",
      " [  2  27  59  89   1   8   6]\n",
      " [  0   3  15   5  13   0   2]\n",
      " [  0   3  21  12   0  39   5]\n",
      " [  1   7   8   4   0   1  43]]\n",
      "              precision    recall  f1-score   support\n",
      "\n",
      "           0       0.67      0.40      0.50        30\n",
      "           1       0.35      0.41      0.38        91\n",
      "           2       0.67      0.71      0.69       351\n",
      "           3       0.48      0.46      0.47       192\n",
      "           4       0.76      0.34      0.47        38\n",
      "           5       0.53      0.49      0.51        80\n",
      "           6       0.57      0.67      0.61        64\n",
      "\n",
      "    accuracy                           0.57       846\n",
      "   macro avg       0.58      0.50      0.52       846\n",
      "weighted avg       0.58      0.57      0.57       846\n",
      "\n"
     ]
    }
   ],
   "source": [
    "df_test = pd.DataFrame({'true': Y_test.tolist(), 'pred':Y_pred1})\n",
    "df_test['true'] = df_test['true'].apply(lambda x: np.argmax(x))\n",
    "print(\"confusion matrix\",confusion_matrix(df_test.true, df_test.pred))\n",
    "print(classification_report(df_test.true, df_test.pred))"
   ]
  },
  {
   "cell_type": "code",
   "execution_count": 30,
   "metadata": {},
   "outputs": [
    {
     "name": "stdout",
     "output_type": "stream",
     "text": [
      "['صحفية هايلة يعطي صحة']\n",
      "WARNING:tensorflow:Model was constructed with shape (None, 164) for input Tensor(\"embedding_1_input_3:0\", shape=(None, 164), dtype=float32), but it was called on an input with incompatible shape (1, 29).\n",
      "1/1 - 0s\n"
     ]
    },
    {
     "data": {
      "text/plain": [
       "5"
      ]
     },
     "execution_count": 30,
     "metadata": {},
     "output_type": "execute_result"
    }
   ],
   "source": [
    "txt = ['صحفية هايلة يعطي صحة']\n",
    "#vectorizing the tweet by the pre-fitted tokenizer instance\n",
    "twt = tokenizer.texts_to_sequences(txt)\n",
    "#padding the tweet to have exactly the same shape as `embedding_2` input\n",
    "twt = pad_sequences(twt, maxlen=29, dtype='int32', value=0)\n",
    "print(txt)\n",
    "aspect = new_model1.predict(twt,batch_size=1,verbose = 2)[0]\n",
    "\n",
    "np.argmax(aspect)"
   ]
  },
  {
   "cell_type": "code",
   "execution_count": 34,
   "metadata": {},
   "outputs": [
    {
     "name": "stdout",
     "output_type": "stream",
     "text": [
      "[[  0   0   0   0   0   0   0   0   0   0   0   0   0   0   0   0   0   0\n",
      "    0   0   0   0   0   0   0   0 296 611 327]]\n",
      "1/1 - 0s\n",
      "1/1 - 0s\n",
      "neutre\n",
      "DIALOGUE\n"
     ]
    }
   ],
   "source": [
    "twt = ['صحفية هايلة يعطي صحة']\n",
    "#vectorizing the tweet by the pre-fitted tokenizer instance\n",
    "twt = tokenizer.texts_to_sequences(twt)\n",
    "#padding the tweet to have exactly the same shape as `embedding_2` input\n",
    "twt = pad_sequences(twt, maxlen=29, dtype='int32', value=0)\n",
    "print(twt)\n",
    "sentiment = new_model1.predict(twt,batch_size=1,verbose = 2)[0]\n",
    "\n",
    "aspect = new_model.predict(twt,batch_size=1,verbose = 2)[0]\n",
    "\n",
    "if(np.argmax(aspect) == 0):\n",
    "    print(\"negative\")\n",
    "elif (np.argmax(aspect) == 2):\n",
    "    print(\"positive\")\n",
    "elif (np.argmax(aspect) == 1):\n",
    "    print(\"neutre\")\n",
    "\n",
    "\n",
    "\n",
    "\n",
    "\n",
    "\n",
    "if(np.argmax(sentiment) == 2):\n",
    "    print(\"PRESIDENT\")\n",
    "elif (np.argmax(sentiment) == 3):\n",
    "    print(\"ELECTION\")\n",
    "elif (np.argmax(sentiment) == 0):\n",
    "    print(\"CANDIDAT\")\n",
    "elif (np.argmax(sentiment) == 1):\n",
    "    print(\"DEBAT\")\n",
    "elif (np.argmax(sentiment) == 4):\n",
    "    print(\"GENERAL\")\n",
    "elif (np.argmax(sentiment) == 6):\n",
    "    print(\"DIALOGUE\")\n",
    "elif (np.argmax(sentiment) == 6):\n",
    "    print(\"JOURNALIST\")\n",
    "elif (np.argmax(sentiment) == 7):\n",
    "    print(\"PROGRAM\")\n",
    "elif (np.argmax(sentiment) == 8):\n",
    "    print(\"PEOPLE\")"
   ]
  },
  {
   "cell_type": "code",
   "execution_count": 17,
   "metadata": {},
   "outputs": [
    {
     "name": "stdout",
     "output_type": "stream",
     "text": [
      "['بعد ثوره اسوام خياليه']\n",
      "1/1 - 0s\n",
      "1/1 - 0s\n",
      "negative\n",
      "FOOD#PRICES\n"
     ]
    }
   ],
   "source": [
    "txt = ['صحفية هايلة يعطي صحة']\n",
    "#vectorizing the tweet by the pre-fitted tokenizer instance\n",
    "twt = tokenizer.texts_to_sequences(txt)\n",
    "#padding the tweet to have exactly the same shape as `embedding_2` input\n",
    "twt = pad_sequences(twt, maxlen=29, dtype='int32', value=0)\n",
    "print(txt)\n",
    "sentiment = new_model.predict(twt,batch_size=1,verbose = 2)[0]\n",
    "aspect = new_model1.predict(twt,batch_size=1,verbose = 2)[0]\n",
    "\n",
    "if(np.argmax(sentiment) == 0):\n",
    "    print(\"negative\")\n",
    "elif (np.argmax(sentiment) == 1):\n",
    "    print(\"positive\")\n",
    "elif (np.argmax(sentiment) == 2):\n",
    "    print(\"neutre\")\n",
    "if(np.argmax(aspect) == 2):\n",
    "    print(\"FOOD#QUALITY\")\n",
    "elif (np.argmax(aspect) == 0):\n",
    "    print(\"FOOD#PRICES\")\n",
    "elif (np.argmax(aspect) == 3):\n",
    "    print(\"GENERAL\")\n",
    "elif (np.argmax(aspect) == 1):\n",
    "    print(\"RESTAURANT#GENERAL\")\n",
    "elif (np.argmax(aspect) == 4):\n",
    "    print(\"RESTAURANT#LOCALISATION\")\n",
    "elif (np.argmax(aspect) == 5):\n",
    "    print(\"RESTAURANT#SERVICE\")\n",
    "elif (np.argmax(aspect) == 6):\n",
    "    print(\"RESTAURANT#cleanliness\")"
   ]
  },
  {
   "cell_type": "code",
   "execution_count": 20,
   "metadata": {},
   "outputs": [
    {
     "name": "stdout",
     "output_type": "stream",
     "text": [
      "['نموت علي اكل تونسي محرحر']\n",
      "1/1 - 0s\n",
      "1/1 - 0s\n",
      "positive\n",
      "FOOD#QUALITY\n"
     ]
    }
   ],
   "source": [
    "txt = ['نموت علي اكل تونسي محرحر']\n",
    "#vectorizing the tweet by the pre-fitted tokenizer instance\n",
    "twt = tokenizer.texts_to_sequences(txt)\n",
    "#padding the tweet to have exactly the same shape as `embedding_2` input\n",
    "twt = pad_sequences(twt, maxlen=29, dtype='int32', value=0)\n",
    "print(txt)\n",
    "sentiment = new_model.predict(twt,batch_size=1,verbose = 2)[0]\n",
    "aspect = new_model1.predict(twt,batch_size=1,verbose = 2)[0]\n",
    "\n",
    "if(np.argmax(sentiment) == 0):\n",
    "    print(\"negative\")\n",
    "elif (np.argmax(sentiment) == 1):\n",
    "    print(\"positive\")\n",
    "elif (np.argmax(sentiment) == 2):\n",
    "    print(\"neutre\")\n",
    "if(np.argmax(aspect) == 1):\n",
    "    print(\"FOOD#QUALITY\")\n",
    "elif (np.argmax(aspect) == 6):\n",
    "    print(\"FOOD#PRICES\")\n",
    "elif (np.argmax(aspect) == 0):\n",
    "    print(\"GENERAL\")\n",
    "elif (np.argmax(aspect) == 1):\n",
    "    print(\"RESTAURANT#GENERAL\")\n",
    "elif (np.argmax(aspect) == 4):\n",
    "    print(\"RESTAURANT#LOCALISATION\")\n",
    "elif (np.argmax(aspect) == 5):\n",
    "    print(\"RESTAURANT#SERVICE\")\n",
    "elif (np.argmax(aspect) == 2):\n",
    "    print(\"RESTAURANT#cleanliness\")"
   ]
  },
  {
   "cell_type": "code",
   "execution_count": 21,
   "metadata": {},
   "outputs": [
    {
     "name": "stdout",
     "output_type": "stream",
     "text": [
      "['مضر']\n",
      "1/1 - 0s\n",
      "1/1 - 0s\n",
      "negative\n",
      "RESTAURANT#cleanliness\n"
     ]
    }
   ],
   "source": [
    "txt = ['مضر']\n",
    "#vectorizing the tweet by the pre-fitted tokenizer instance\n",
    "twt = tokenizer.texts_to_sequences(txt)\n",
    "#padding the tweet to have exactly the same shape as `embedding_2` input\n",
    "twt = pad_sequences(twt, maxlen=29, dtype='int32', value=0)\n",
    "print(txt)\n",
    "sentiment = new_model.predict(twt,batch_size=1,verbose = 2)[0]\n",
    "aspect = new_model1.predict(twt,batch_size=1,verbose = 2)[0]\n",
    "\n",
    "if(np.argmax(sentiment) == 0):\n",
    "    print(\"negative\")\n",
    "elif (np.argmax(sentiment) == 1):\n",
    "    print(\"positive\")\n",
    "elif (np.argmax(sentiment) == 2):\n",
    "    print(\"neutre\")\n",
    "    \n",
    "if(np.argmax(aspect) == 3):\n",
    "    print(\"FOOD#QUALITY\")\n",
    "elif (np.argmax(aspect) == 0):\n",
    "    print(\"FOOD#PRICES\")\n",
    "elif (np.argmax(aspect) == 0):\n",
    "    print(\"GENERAL\")\n",
    "elif (np.argmax(aspect) == 1):\n",
    "    print(\"RESTAURANT#GENERAL\")\n",
    "elif (np.argmax(aspect) == 4):\n",
    "    print(\"RESTAURANT#LOCALISATION\")\n",
    "elif (np.argmax(aspect) == 5):\n",
    "    print(\"RESTAURANT#SERVICE\")\n",
    "elif (np.argmax(aspect) == 6):\n",
    "    print(\"RESTAURANT#cleanliness\")"
   ]
  },
  {
   "cell_type": "code",
   "execution_count": null,
   "metadata": {},
   "outputs": [],
   "source": []
  }
 ],
 "metadata": {
  "_change_revision": 0,
  "_is_fork": false,
  "kernelspec": {
   "display_name": "Python 3 (ipykernel)",
   "language": "python",
   "name": "python3"
  },
  "language_info": {
   "codemirror_mode": {
    "name": "ipython",
    "version": 3
   },
   "file_extension": ".py",
   "mimetype": "text/x-python",
   "name": "python",
   "nbconvert_exporter": "python",
   "pygments_lexer": "ipython3",
   "version": "3.7.11"
  }
 },
 "nbformat": 4,
 "nbformat_minor": 1
}
